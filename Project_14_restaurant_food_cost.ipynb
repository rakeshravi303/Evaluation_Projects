{
 "cells": [
  {
   "cell_type": "code",
   "execution_count": 1,
   "metadata": {},
   "outputs": [],
   "source": [
    "import numpy as np\n",
    "import pandas as pd\n",
    "import matplotlib.pyplot as plt\n",
    "import seaborn as sns\n",
    "\n",
    "from sklearn.linear_model import LinearRegression\n",
    "from sklearn.neighbors import KNeighborsRegressor\n",
    "from sklearn.linear_model import Lasso\n",
    "from sklearn.svm import SVR\n",
    "from sklearn.tree import DecisionTreeRegressor\n",
    "from sklearn.ensemble import RandomForestRegressor\n",
    "from sklearn.ensemble import GradientBoostingRegressor\n",
    "from sklearn.ensemble import AdaBoostRegressor\n",
    "\n",
    "from sklearn.model_selection import GridSearchCV\n",
    "from sklearn.model_selection import RandomizedSearchCV\n",
    "\n",
    "from sklearn.metrics import mean_squared_error,mean_absolute_error, explained_variance_score, r2_score\n",
    "from sklearn.model_selection import train_test_split, cross_val_predict, cross_val_score\n",
    "from sklearn.metrics import confusion_matrix,classification_report\n",
    "from sklearn.metrics import accuracy_score\n",
    "import warnings\n",
    "# warnings.filterwarnings('ignore')"
   ]
  },
  {
   "cell_type": "code",
   "execution_count": 2,
   "metadata": {},
   "outputs": [
    {
     "data": {
      "text/html": [
       "<div>\n",
       "<style scoped>\n",
       "    .dataframe tbody tr th:only-of-type {\n",
       "        vertical-align: middle;\n",
       "    }\n",
       "\n",
       "    .dataframe tbody tr th {\n",
       "        vertical-align: top;\n",
       "    }\n",
       "\n",
       "    .dataframe thead th {\n",
       "        text-align: right;\n",
       "    }\n",
       "</style>\n",
       "<table border=\"1\" class=\"dataframe\">\n",
       "  <thead>\n",
       "    <tr style=\"text-align: right;\">\n",
       "      <th></th>\n",
       "      <th>TITLE</th>\n",
       "      <th>RESTAURANT_ID</th>\n",
       "      <th>CUISINES</th>\n",
       "      <th>TIME</th>\n",
       "      <th>CITY</th>\n",
       "      <th>LOCALITY</th>\n",
       "      <th>RATING</th>\n",
       "      <th>VOTES</th>\n",
       "      <th>COST</th>\n",
       "    </tr>\n",
       "  </thead>\n",
       "  <tbody>\n",
       "    <tr>\n",
       "      <th>0</th>\n",
       "      <td>CASUAL DINING</td>\n",
       "      <td>9438</td>\n",
       "      <td>Malwani, Goan, North Indian</td>\n",
       "      <td>11am – 4pm, 7:30pm – 11:30pm (Mon-Sun)</td>\n",
       "      <td>Thane</td>\n",
       "      <td>Dombivali East</td>\n",
       "      <td>3.6</td>\n",
       "      <td>49 votes</td>\n",
       "      <td>1200</td>\n",
       "    </tr>\n",
       "    <tr>\n",
       "      <th>1</th>\n",
       "      <td>CASUAL DINING,BAR</td>\n",
       "      <td>13198</td>\n",
       "      <td>Asian, Modern Indian, Japanese</td>\n",
       "      <td>6pm – 11pm (Mon-Sun)</td>\n",
       "      <td>Chennai</td>\n",
       "      <td>Ramapuram</td>\n",
       "      <td>4.2</td>\n",
       "      <td>30 votes</td>\n",
       "      <td>1500</td>\n",
       "    </tr>\n",
       "    <tr>\n",
       "      <th>2</th>\n",
       "      <td>CASUAL DINING</td>\n",
       "      <td>10915</td>\n",
       "      <td>North Indian, Chinese, Biryani, Hyderabadi</td>\n",
       "      <td>11am – 3:30pm, 7pm – 11pm (Mon-Sun)</td>\n",
       "      <td>Chennai</td>\n",
       "      <td>Saligramam</td>\n",
       "      <td>3.8</td>\n",
       "      <td>221 votes</td>\n",
       "      <td>800</td>\n",
       "    </tr>\n",
       "    <tr>\n",
       "      <th>3</th>\n",
       "      <td>QUICK BITES</td>\n",
       "      <td>6346</td>\n",
       "      <td>Tibetan, Chinese</td>\n",
       "      <td>11:30am – 1am (Mon-Sun)</td>\n",
       "      <td>Mumbai</td>\n",
       "      <td>Bandra West</td>\n",
       "      <td>4.1</td>\n",
       "      <td>24 votes</td>\n",
       "      <td>800</td>\n",
       "    </tr>\n",
       "    <tr>\n",
       "      <th>4</th>\n",
       "      <td>DESSERT PARLOR</td>\n",
       "      <td>15387</td>\n",
       "      <td>Desserts</td>\n",
       "      <td>11am – 1am (Mon-Sun)</td>\n",
       "      <td>Mumbai</td>\n",
       "      <td>Lower Parel</td>\n",
       "      <td>3.8</td>\n",
       "      <td>165 votes</td>\n",
       "      <td>300</td>\n",
       "    </tr>\n",
       "  </tbody>\n",
       "</table>\n",
       "</div>"
      ],
      "text/plain": [
       "               TITLE  RESTAURANT_ID  \\\n",
       "0      CASUAL DINING           9438   \n",
       "1  CASUAL DINING,BAR          13198   \n",
       "2      CASUAL DINING          10915   \n",
       "3        QUICK BITES           6346   \n",
       "4     DESSERT PARLOR          15387   \n",
       "\n",
       "                                     CUISINES  \\\n",
       "0                 Malwani, Goan, North Indian   \n",
       "1              Asian, Modern Indian, Japanese   \n",
       "2  North Indian, Chinese, Biryani, Hyderabadi   \n",
       "3                            Tibetan, Chinese   \n",
       "4                                    Desserts   \n",
       "\n",
       "                                     TIME     CITY        LOCALITY RATING  \\\n",
       "0  11am – 4pm, 7:30pm – 11:30pm (Mon-Sun)    Thane  Dombivali East    3.6   \n",
       "1                    6pm – 11pm (Mon-Sun)  Chennai       Ramapuram    4.2   \n",
       "2     11am – 3:30pm, 7pm – 11pm (Mon-Sun)  Chennai      Saligramam    3.8   \n",
       "3                 11:30am – 1am (Mon-Sun)   Mumbai     Bandra West    4.1   \n",
       "4                    11am – 1am (Mon-Sun)   Mumbai     Lower Parel    3.8   \n",
       "\n",
       "       VOTES  COST  \n",
       "0   49 votes  1200  \n",
       "1   30 votes  1500  \n",
       "2  221 votes   800  \n",
       "3   24 votes   800  \n",
       "4  165 votes   300  "
      ]
     },
     "execution_count": 2,
     "metadata": {},
     "output_type": "execute_result"
    }
   ],
   "source": [
    "# Load train dataset\n",
    "df_train=pd.read_excel('./Participants_Data_Final/Data_Train.xlsx')\n",
    "df_train.head()"
   ]
  },
  {
   "cell_type": "code",
   "execution_count": 3,
   "metadata": {},
   "outputs": [
    {
     "data": {
      "text/html": [
       "<div>\n",
       "<style scoped>\n",
       "    .dataframe tbody tr th:only-of-type {\n",
       "        vertical-align: middle;\n",
       "    }\n",
       "\n",
       "    .dataframe tbody tr th {\n",
       "        vertical-align: top;\n",
       "    }\n",
       "\n",
       "    .dataframe thead th {\n",
       "        text-align: right;\n",
       "    }\n",
       "</style>\n",
       "<table border=\"1\" class=\"dataframe\">\n",
       "  <thead>\n",
       "    <tr style=\"text-align: right;\">\n",
       "      <th></th>\n",
       "      <th>TITLE</th>\n",
       "      <th>RESTAURANT_ID</th>\n",
       "      <th>CUISINES</th>\n",
       "      <th>TIME</th>\n",
       "      <th>CITY</th>\n",
       "      <th>LOCALITY</th>\n",
       "      <th>RATING</th>\n",
       "      <th>VOTES</th>\n",
       "    </tr>\n",
       "  </thead>\n",
       "  <tbody>\n",
       "    <tr>\n",
       "      <th>0</th>\n",
       "      <td>CASUAL DINING</td>\n",
       "      <td>4085</td>\n",
       "      <td>North Indian, Chinese, Mughlai, Kebab</td>\n",
       "      <td>12noon – 12midnight (Mon-Sun)</td>\n",
       "      <td>Noida</td>\n",
       "      <td>Sector 18</td>\n",
       "      <td>4.3</td>\n",
       "      <td>564 votes</td>\n",
       "    </tr>\n",
       "    <tr>\n",
       "      <th>1</th>\n",
       "      <td>QUICK BITES</td>\n",
       "      <td>12680</td>\n",
       "      <td>South Indian, Fast Food, Pizza, North Indian</td>\n",
       "      <td>7am – 12:30AM (Mon-Sun)</td>\n",
       "      <td>Mumbai</td>\n",
       "      <td>Grant Road</td>\n",
       "      <td>4.2</td>\n",
       "      <td>61 votes</td>\n",
       "    </tr>\n",
       "    <tr>\n",
       "      <th>2</th>\n",
       "      <td>CASUAL DINING</td>\n",
       "      <td>1411</td>\n",
       "      <td>North Indian, Seafood, Biryani, Chinese</td>\n",
       "      <td>11am – 11:30pm (Mon-Sun)</td>\n",
       "      <td>Mumbai</td>\n",
       "      <td>Marine Lines</td>\n",
       "      <td>3.8</td>\n",
       "      <td>350 votes</td>\n",
       "    </tr>\n",
       "    <tr>\n",
       "      <th>3</th>\n",
       "      <td>None</td>\n",
       "      <td>204</td>\n",
       "      <td>Biryani</td>\n",
       "      <td>9am – 10pm (Mon, Wed, Thu, Fri, Sat, Sun), 10:...</td>\n",
       "      <td>Faridabad</td>\n",
       "      <td>NIT</td>\n",
       "      <td>3.8</td>\n",
       "      <td>1445 votes</td>\n",
       "    </tr>\n",
       "    <tr>\n",
       "      <th>4</th>\n",
       "      <td>QUICK BITES</td>\n",
       "      <td>13453</td>\n",
       "      <td>South Indian, Kerala</td>\n",
       "      <td>11am – 10pm (Mon-Sun)</td>\n",
       "      <td>Kochi</td>\n",
       "      <td>Kaloor</td>\n",
       "      <td>3.6</td>\n",
       "      <td>23 votes</td>\n",
       "    </tr>\n",
       "  </tbody>\n",
       "</table>\n",
       "</div>"
      ],
      "text/plain": [
       "           TITLE  RESTAURANT_ID                                      CUISINES  \\\n",
       "0  CASUAL DINING           4085         North Indian, Chinese, Mughlai, Kebab   \n",
       "1    QUICK BITES          12680  South Indian, Fast Food, Pizza, North Indian   \n",
       "2  CASUAL DINING           1411       North Indian, Seafood, Biryani, Chinese   \n",
       "3           None            204                                       Biryani   \n",
       "4    QUICK BITES          13453                          South Indian, Kerala   \n",
       "\n",
       "                                                TIME       CITY      LOCALITY  \\\n",
       "0                      12noon – 12midnight (Mon-Sun)      Noida     Sector 18   \n",
       "1                            7am – 12:30AM (Mon-Sun)     Mumbai    Grant Road   \n",
       "2                           11am – 11:30pm (Mon-Sun)     Mumbai  Marine Lines   \n",
       "3  9am – 10pm (Mon, Wed, Thu, Fri, Sat, Sun), 10:...  Faridabad           NIT   \n",
       "4                              11am – 10pm (Mon-Sun)      Kochi        Kaloor   \n",
       "\n",
       "  RATING       VOTES  \n",
       "0    4.3   564 votes  \n",
       "1    4.2    61 votes  \n",
       "2    3.8   350 votes  \n",
       "3    3.8  1445 votes  \n",
       "4    3.6    23 votes  "
      ]
     },
     "execution_count": 3,
     "metadata": {},
     "output_type": "execute_result"
    }
   ],
   "source": [
    "# Load test dataset\n",
    "df_test=pd.read_excel('./Participants_Data_Final/Data_Test.xlsx')\n",
    "df_test.head()"
   ]
  },
  {
   "cell_type": "code",
   "execution_count": 4,
   "metadata": {},
   "outputs": [
    {
     "data": {
      "text/plain": [
       "((12690, 9), (4231, 8))"
      ]
     },
     "execution_count": 4,
     "metadata": {},
     "output_type": "execute_result"
    }
   ],
   "source": [
    "df_train.shape, df_test.shape"
   ]
  },
  {
   "cell_type": "code",
   "execution_count": 5,
   "metadata": {},
   "outputs": [
    {
     "data": {
      "text/plain": [
       "TITLE               0\n",
       "RESTAURANT_ID       0\n",
       "CUISINES            0\n",
       "TIME                0\n",
       "CITY              112\n",
       "LOCALITY           98\n",
       "RATING              2\n",
       "VOTES            1204\n",
       "COST                0\n",
       "dtype: int64"
      ]
     },
     "execution_count": 5,
     "metadata": {},
     "output_type": "execute_result"
    }
   ],
   "source": [
    "df_train.isna().sum()"
   ]
  },
  {
   "cell_type": "code",
   "execution_count": 6,
   "metadata": {},
   "outputs": [
    {
     "data": {
      "text/plain": [
       "TITLE              0\n",
       "RESTAURANT_ID      0\n",
       "CUISINES           0\n",
       "TIME               0\n",
       "CITY              35\n",
       "LOCALITY          30\n",
       "RATING             2\n",
       "VOTES            402\n",
       "dtype: int64"
      ]
     },
     "execution_count": 6,
     "metadata": {},
     "output_type": "execute_result"
    }
   ],
   "source": [
    "df_test.isna().sum()"
   ]
  },
  {
   "cell_type": "code",
   "execution_count": 7,
   "metadata": {},
   "outputs": [
    {
     "name": "stdout",
     "output_type": "stream",
     "text": [
      "<class 'pandas.core.frame.DataFrame'>\n",
      "RangeIndex: 12690 entries, 0 to 12689\n",
      "Data columns (total 9 columns):\n",
      "TITLE            12690 non-null object\n",
      "RESTAURANT_ID    12690 non-null int64\n",
      "CUISINES         12690 non-null object\n",
      "TIME             12690 non-null object\n",
      "CITY             12578 non-null object\n",
      "LOCALITY         12592 non-null object\n",
      "RATING           12688 non-null object\n",
      "VOTES            11486 non-null object\n",
      "COST             12690 non-null int64\n",
      "dtypes: int64(2), object(7)\n",
      "memory usage: 892.3+ KB\n"
     ]
    }
   ],
   "source": [
    "df_train.info()"
   ]
  },
  {
   "cell_type": "code",
   "execution_count": 8,
   "metadata": {},
   "outputs": [
    {
     "name": "stdout",
     "output_type": "stream",
     "text": [
      "<class 'pandas.core.frame.DataFrame'>\n",
      "RangeIndex: 4231 entries, 0 to 4230\n",
      "Data columns (total 8 columns):\n",
      "TITLE            4231 non-null object\n",
      "RESTAURANT_ID    4231 non-null int64\n",
      "CUISINES         4231 non-null object\n",
      "TIME             4231 non-null object\n",
      "CITY             4196 non-null object\n",
      "LOCALITY         4201 non-null object\n",
      "RATING           4229 non-null object\n",
      "VOTES            3829 non-null object\n",
      "dtypes: int64(1), object(7)\n",
      "memory usage: 264.5+ KB\n"
     ]
    }
   ],
   "source": [
    "df_test.info()"
   ]
  },
  {
   "cell_type": "markdown",
   "metadata": {},
   "source": [
    "#### EDA"
   ]
  },
  {
   "cell_type": "code",
   "execution_count": 10,
   "metadata": {},
   "outputs": [
    {
     "data": {
      "text/plain": [
       "25"
      ]
     },
     "execution_count": 10,
     "metadata": {},
     "output_type": "execute_result"
    }
   ],
   "source": [
    "# Identify the duplicate records\n",
    "df_train.duplicated().sum()"
   ]
  },
  {
   "cell_type": "code",
   "execution_count": 11,
   "metadata": {},
   "outputs": [],
   "source": [
    "# Reomove duplicates\n",
    "df_train = df_train.drop_duplicates()"
   ]
  },
  {
   "cell_type": "code",
   "execution_count": 12,
   "metadata": {},
   "outputs": [
    {
     "data": {
      "text/plain": [
       "1"
      ]
     },
     "execution_count": 12,
     "metadata": {},
     "output_type": "execute_result"
    }
   ],
   "source": [
    "# Identify the duplicate records\n",
    "df_test.duplicated().sum()"
   ]
  },
  {
   "cell_type": "code",
   "execution_count": 13,
   "metadata": {},
   "outputs": [],
   "source": [
    "# Reomove duplicates\n",
    "df_test = df_test.drop_duplicates()"
   ]
  },
  {
   "cell_type": "code",
   "execution_count": 14,
   "metadata": {},
   "outputs": [
    {
     "data": {
      "text/plain": [
       "TITLE               0\n",
       "RESTAURANT_ID       0\n",
       "CUISINES            0\n",
       "TIME                0\n",
       "CITY              112\n",
       "LOCALITY           98\n",
       "RATING              2\n",
       "VOTES            1200\n",
       "COST                0\n",
       "dtype: int64"
      ]
     },
     "execution_count": 14,
     "metadata": {},
     "output_type": "execute_result"
    }
   ],
   "source": [
    "df_train.isna().sum()"
   ]
  },
  {
   "cell_type": "code",
   "execution_count": 15,
   "metadata": {},
   "outputs": [
    {
     "data": {
      "text/plain": [
       "TITLE              0\n",
       "RESTAURANT_ID      0\n",
       "CUISINES           0\n",
       "TIME               0\n",
       "CITY              35\n",
       "LOCALITY          30\n",
       "RATING             2\n",
       "VOTES            402\n",
       "dtype: int64"
      ]
     },
     "execution_count": 15,
     "metadata": {},
     "output_type": "execute_result"
    }
   ],
   "source": [
    "df_test.isna().sum()"
   ]
  },
  {
   "cell_type": "code",
   "execution_count": 16,
   "metadata": {},
   "outputs": [],
   "source": [
    "# We can remove Restaurant ID from the dataset as it is not a price dependent attribute\n",
    "df_train = df_train.drop('RESTAURANT_ID', axis=1)\n",
    "df_test = df_test.drop('RESTAURANT_ID', axis=1)"
   ]
  },
  {
   "cell_type": "code",
   "execution_count": 17,
   "metadata": {},
   "outputs": [
    {
     "data": {
      "text/plain": [
       "array(['11am – 4pm, 7:30pm – 11:30pm (Mon-Sun)', '6pm – 11pm (Mon-Sun)',\n",
       "       '11am – 3:30pm, 7pm – 11pm (Mon-Sun)', ...,\n",
       "       '12:1pm – 4am (Mon-Sun)', '12:30pm – 9:45pm (Mon-Sun)',\n",
       "       '12noon – 1am (Mon-Fri),11am – 5pm, 7pm – 1am...'], dtype=object)"
      ]
     },
     "execution_count": 17,
     "metadata": {},
     "output_type": "execute_result"
    }
   ],
   "source": [
    "df_train['TIME'].unique()"
   ]
  },
  {
   "cell_type": "code",
   "execution_count": 18,
   "metadata": {},
   "outputs": [],
   "source": [
    "# The TIME has less importance, so we can drop that also\n",
    "df_train = df_train.drop('TIME', axis=1)\n",
    "df_test = df_test.drop('TIME', axis=1)"
   ]
  },
  {
   "cell_type": "code",
   "execution_count": 19,
   "metadata": {},
   "outputs": [
    {
     "data": {
      "text/plain": [
       "array(['49 votes', '30 votes', '221 votes', ..., '2723 votes',\n",
       "       '1426 votes', '1214 votes'], dtype=object)"
      ]
     },
     "execution_count": 19,
     "metadata": {},
     "output_type": "execute_result"
    }
   ],
   "source": [
    "df_train.VOTES.unique()  "
   ]
  },
  {
   "cell_type": "code",
   "execution_count": 20,
   "metadata": {},
   "outputs": [
    {
     "data": {
      "text/plain": [
       "array(['564 votes', '61 votes', '350 votes', ..., '1697 votes',\n",
       "       '749 votes', '1239 votes'], dtype=object)"
      ]
     },
     "execution_count": 20,
     "metadata": {},
     "output_type": "execute_result"
    }
   ],
   "source": [
    "df_test.VOTES.unique() "
   ]
  },
  {
   "cell_type": "code",
   "execution_count": 21,
   "metadata": {},
   "outputs": [],
   "source": [
    "# Converting string to int, due to null values need to convert to type float\n",
    "df_train.VOTES=df_train.VOTES.str.replace('votes','').astype(float) \n",
    "df_test.VOTES=df_test.VOTES.str.replace('votes','').astype(float)"
   ]
  },
  {
   "cell_type": "code",
   "execution_count": 22,
   "metadata": {},
   "outputs": [
    {
     "name": "stdout",
     "output_type": "stream",
     "text": [
      "TITLE         0\n",
      "CUISINES      0\n",
      "CITY        112\n",
      "LOCALITY     98\n",
      "RATING        2\n",
      "VOTES         0\n",
      "COST          0\n",
      "dtype: int64\n",
      "TITLE        0\n",
      "CUISINES     0\n",
      "CITY        35\n",
      "LOCALITY    30\n",
      "RATING       2\n",
      "VOTES        0\n",
      "dtype: int64\n"
     ]
    }
   ],
   "source": [
    "# Replace the missing values with mean values.\n",
    "df_train.VOTES=df_train.VOTES.fillna(df_train.VOTES.mean())\n",
    "df_test.VOTES=df_test.VOTES.fillna(df_test.VOTES.mean())\n",
    "print(df_train.isna().sum())\n",
    "print(df_test.isna().sum())"
   ]
  },
  {
   "cell_type": "code",
   "execution_count": 23,
   "metadata": {},
   "outputs": [],
   "source": [
    "# As the city and Locality are important attributes for price variation, better we can remove these null data\n",
    "df_train.dropna(axis=0, inplace=True)\n",
    "df_test.dropna(axis=0, inplace=True)"
   ]
  },
  {
   "cell_type": "code",
   "execution_count": 24,
   "metadata": {},
   "outputs": [
    {
     "data": {
      "text/plain": [
       "((12550, 7), (4193, 6))"
      ]
     },
     "execution_count": 24,
     "metadata": {},
     "output_type": "execute_result"
    }
   ],
   "source": [
    "df_train.shape, df_test.shape"
   ]
  },
  {
   "cell_type": "code",
   "execution_count": 25,
   "metadata": {},
   "outputs": [
    {
     "name": "stdout",
     "output_type": "stream",
     "text": [
      "TITLE       0\n",
      "CUISINES    0\n",
      "CITY        0\n",
      "LOCALITY    0\n",
      "RATING      0\n",
      "VOTES       0\n",
      "COST        0\n",
      "dtype: int64\n",
      "TITLE       0\n",
      "CUISINES    0\n",
      "CITY        0\n",
      "LOCALITY    0\n",
      "RATING      0\n",
      "VOTES       0\n",
      "dtype: int64\n"
     ]
    }
   ],
   "source": [
    "print(df_train.isna().sum())\n",
    "print(df_test.isna().sum())"
   ]
  },
  {
   "cell_type": "code",
   "execution_count": 26,
   "metadata": {},
   "outputs": [
    {
     "name": "stdout",
     "output_type": "stream",
     "text": [
      "['3.6' '4.2' '3.8' '4.1' '4.0' '4.3' '3.9' '3.3' '3.4' '-' '4.5' '3.5'\n",
      " '4.4' '2.7' '3.7' '4.7' 'NEW' '3.1' '2.5' '4.6' '2.8' '3.0' '3.2' '2.6'\n",
      " '2.9' '4.9' '4.8' '2.4' '2.3' '2.0' '2.1' '2.2']\n",
      "['4.3' '4.2' '3.8' '3.6' '3.7' 'NEW' '4.0' '3.4' '3.2' '4.1' '3.0' '-'\n",
      " '3.5' '4.5' '3.9' '3.3' '2.9' '3.1' '2.5' '2.8' '4.6' '4.4' '2.7' '4.8'\n",
      " '2.6' '4.9' '2.1' '4.7' '2.3' '2.4' '2.2']\n"
     ]
    }
   ],
   "source": [
    "# Lets check RATING column and convert to integer\n",
    "print(df_train['RATING'].unique())\n",
    "print(df_test['RATING'].unique())"
   ]
  },
  {
   "cell_type": "code",
   "execution_count": 27,
   "metadata": {},
   "outputs": [],
   "source": [
    "# For converting RATING to float, we need to handle NEW and nan strings\n",
    "def get_rating(df_rating):\n",
    "    rating_mode = df_rating.mode()\n",
    "    rating_list = list(df_rating)\n",
    "\n",
    "    for i in range(len(rating_list)):\n",
    "        try:\n",
    "            rating_list[i] = float(rating_list[i])\n",
    "        except:\n",
    "            rating_list[i] = float(rating_mode)\n",
    "            \n",
    "    return rating_list"
   ]
  },
  {
   "cell_type": "code",
   "execution_count": 28,
   "metadata": {},
   "outputs": [],
   "source": [
    "df_train['RATING'] = get_rating(df_train['RATING'])\n",
    "df_test['RATING'] = get_rating(df_test['RATING'])"
   ]
  },
  {
   "cell_type": "code",
   "execution_count": 29,
   "metadata": {},
   "outputs": [
    {
     "name": "stdout",
     "output_type": "stream",
     "text": [
      "<class 'pandas.core.frame.DataFrame'>\n",
      "Int64Index: 12550 entries, 0 to 12689\n",
      "Data columns (total 7 columns):\n",
      "TITLE       12550 non-null object\n",
      "CUISINES    12550 non-null object\n",
      "CITY        12550 non-null object\n",
      "LOCALITY    12550 non-null object\n",
      "RATING      12550 non-null float64\n",
      "VOTES       12550 non-null float64\n",
      "COST        12550 non-null int64\n",
      "dtypes: float64(2), int64(1), object(4)\n",
      "memory usage: 784.4+ KB\n",
      "<class 'pandas.core.frame.DataFrame'>\n",
      "Int64Index: 4193 entries, 0 to 4230\n",
      "Data columns (total 6 columns):\n",
      "TITLE       4193 non-null object\n",
      "CUISINES    4193 non-null object\n",
      "CITY        4193 non-null object\n",
      "LOCALITY    4193 non-null object\n",
      "RATING      4193 non-null float64\n",
      "VOTES       4193 non-null float64\n",
      "dtypes: float64(2), object(4)\n",
      "memory usage: 229.3+ KB\n"
     ]
    },
    {
     "data": {
      "text/plain": [
       "(None, None)"
      ]
     },
     "execution_count": 29,
     "metadata": {},
     "output_type": "execute_result"
    }
   ],
   "source": [
    "df_train.info(), df_test.info()"
   ]
  },
  {
   "cell_type": "code",
   "execution_count": 30,
   "metadata": {},
   "outputs": [],
   "source": [
    "# Lets check other object "
   ]
  },
  {
   "cell_type": "code",
   "execution_count": 31,
   "metadata": {},
   "outputs": [],
   "source": [
    "# Create a function to check the count of titles after split\n",
    "def split_data_count(df_data):\n",
    "    titles = list(df_data)\n",
    "    title_count = 1\n",
    "    for i in titles:\n",
    "        if len(i.split(',')) > title_count:\n",
    "            title_count = len(i.split(','))\n",
    "    return title_count"
   ]
  },
  {
   "cell_type": "code",
   "execution_count": 32,
   "metadata": {},
   "outputs": [],
   "source": [
    "# Create a function to get unique titles after split\n",
    "def split_data_title(df_data):\n",
    "    titles_list = list(df_data)\n",
    "    titles_array = []\n",
    "    for i in titles_list :\n",
    "        if len(i.split(',')) == 1:\n",
    "            titles_array.append(i.split(',')[0].strip())\n",
    "        else:\n",
    "            for x in range(len(i.split(','))):\n",
    "                titles_array.append(i.split(',')[x].strip())\n",
    "            \n",
    "    print(\"No# Unique Titles : \", len(pd.Series(titles_array).unique()))\n",
    "    return list(pd.Series(titles_array).unique())"
   ]
  },
  {
   "cell_type": "code",
   "execution_count": 33,
   "metadata": {},
   "outputs": [
    {
     "name": "stdout",
     "output_type": "stream",
     "text": [
      "title_count_train :  2\n",
      "title_count_test :  2\n"
     ]
    }
   ],
   "source": [
    "# Lets find number of Title\n",
    "title_count_train = split_data_count(df_train['TITLE'])\n",
    "print(\"title_count_train : \", title_count_train) \n",
    "title_count_test = split_data_count(df_test['TITLE'])\n",
    "print(\"title_count_test : \", title_count_test) "
   ]
  },
  {
   "cell_type": "code",
   "execution_count": 34,
   "metadata": {},
   "outputs": [
    {
     "data": {
      "text/html": [
       "<div>\n",
       "<style scoped>\n",
       "    .dataframe tbody tr th:only-of-type {\n",
       "        vertical-align: middle;\n",
       "    }\n",
       "\n",
       "    .dataframe tbody tr th {\n",
       "        vertical-align: top;\n",
       "    }\n",
       "\n",
       "    .dataframe thead th {\n",
       "        text-align: right;\n",
       "    }\n",
       "</style>\n",
       "<table border=\"1\" class=\"dataframe\">\n",
       "  <thead>\n",
       "    <tr style=\"text-align: right;\">\n",
       "      <th></th>\n",
       "      <th>0</th>\n",
       "      <th>1</th>\n",
       "      <th>CUISINES</th>\n",
       "      <th>CITY</th>\n",
       "      <th>LOCALITY</th>\n",
       "      <th>RATING</th>\n",
       "      <th>VOTES</th>\n",
       "      <th>COST</th>\n",
       "    </tr>\n",
       "  </thead>\n",
       "  <tbody>\n",
       "    <tr>\n",
       "      <th>0</th>\n",
       "      <td>CASUAL DINING</td>\n",
       "      <td>None</td>\n",
       "      <td>Malwani, Goan, North Indian</td>\n",
       "      <td>Thane</td>\n",
       "      <td>Dombivali East</td>\n",
       "      <td>3.6</td>\n",
       "      <td>49.0</td>\n",
       "      <td>1200</td>\n",
       "    </tr>\n",
       "    <tr>\n",
       "      <th>1</th>\n",
       "      <td>CASUAL DINING</td>\n",
       "      <td>BAR</td>\n",
       "      <td>Asian, Modern Indian, Japanese</td>\n",
       "      <td>Chennai</td>\n",
       "      <td>Ramapuram</td>\n",
       "      <td>4.2</td>\n",
       "      <td>30.0</td>\n",
       "      <td>1500</td>\n",
       "    </tr>\n",
       "    <tr>\n",
       "      <th>2</th>\n",
       "      <td>CASUAL DINING</td>\n",
       "      <td>None</td>\n",
       "      <td>North Indian, Chinese, Biryani, Hyderabadi</td>\n",
       "      <td>Chennai</td>\n",
       "      <td>Saligramam</td>\n",
       "      <td>3.8</td>\n",
       "      <td>221.0</td>\n",
       "      <td>800</td>\n",
       "    </tr>\n",
       "    <tr>\n",
       "      <th>3</th>\n",
       "      <td>QUICK BITES</td>\n",
       "      <td>None</td>\n",
       "      <td>Tibetan, Chinese</td>\n",
       "      <td>Mumbai</td>\n",
       "      <td>Bandra West</td>\n",
       "      <td>4.1</td>\n",
       "      <td>24.0</td>\n",
       "      <td>800</td>\n",
       "    </tr>\n",
       "    <tr>\n",
       "      <th>4</th>\n",
       "      <td>DESSERT PARLOR</td>\n",
       "      <td>None</td>\n",
       "      <td>Desserts</td>\n",
       "      <td>Mumbai</td>\n",
       "      <td>Lower Parel</td>\n",
       "      <td>3.8</td>\n",
       "      <td>165.0</td>\n",
       "      <td>300</td>\n",
       "    </tr>\n",
       "  </tbody>\n",
       "</table>\n",
       "</div>"
      ],
      "text/plain": [
       "                0     1                                    CUISINES     CITY  \\\n",
       "0   CASUAL DINING  None                 Malwani, Goan, North Indian    Thane   \n",
       "1   CASUAL DINING   BAR              Asian, Modern Indian, Japanese  Chennai   \n",
       "2   CASUAL DINING  None  North Indian, Chinese, Biryani, Hyderabadi  Chennai   \n",
       "3     QUICK BITES  None                            Tibetan, Chinese   Mumbai   \n",
       "4  DESSERT PARLOR  None                                    Desserts   Mumbai   \n",
       "\n",
       "         LOCALITY  RATING  VOTES  COST  \n",
       "0  Dombivali East     3.6   49.0  1200  \n",
       "1       Ramapuram     4.2   30.0  1500  \n",
       "2      Saligramam     3.8  221.0   800  \n",
       "3     Bandra West     4.1   24.0   800  \n",
       "4     Lower Parel     3.8  165.0   300  "
      ]
     },
     "execution_count": 34,
     "metadata": {},
     "output_type": "execute_result"
    }
   ],
   "source": [
    "# Lets split TITLE column for Train data\n",
    "df_title = df_train[\"TITLE\"].str.split(\",\", n = 2, expand = True)\n",
    "# We can see a 'None' data from the above unique titles, so we can fill all other na values as None\n",
    "df_title = df_title.fillna('None')\n",
    "df_train = pd.concat([df_title, df_train], axis=1)\n",
    "df_train = df_train.drop(['TITLE'], axis=1)\n",
    "df_train.head()"
   ]
  },
  {
   "cell_type": "code",
   "execution_count": 35,
   "metadata": {},
   "outputs": [
    {
     "data": {
      "text/html": [
       "<div>\n",
       "<style scoped>\n",
       "    .dataframe tbody tr th:only-of-type {\n",
       "        vertical-align: middle;\n",
       "    }\n",
       "\n",
       "    .dataframe tbody tr th {\n",
       "        vertical-align: top;\n",
       "    }\n",
       "\n",
       "    .dataframe thead th {\n",
       "        text-align: right;\n",
       "    }\n",
       "</style>\n",
       "<table border=\"1\" class=\"dataframe\">\n",
       "  <thead>\n",
       "    <tr style=\"text-align: right;\">\n",
       "      <th></th>\n",
       "      <th>TITLE_1</th>\n",
       "      <th>TITLE_2</th>\n",
       "      <th>CUISINES</th>\n",
       "      <th>CITY</th>\n",
       "      <th>LOCALITY</th>\n",
       "      <th>RATING</th>\n",
       "      <th>VOTES</th>\n",
       "      <th>COST</th>\n",
       "    </tr>\n",
       "  </thead>\n",
       "  <tbody>\n",
       "    <tr>\n",
       "      <th>0</th>\n",
       "      <td>CASUAL DINING</td>\n",
       "      <td>None</td>\n",
       "      <td>Malwani, Goan, North Indian</td>\n",
       "      <td>Thane</td>\n",
       "      <td>Dombivali East</td>\n",
       "      <td>3.6</td>\n",
       "      <td>49.0</td>\n",
       "      <td>1200</td>\n",
       "    </tr>\n",
       "    <tr>\n",
       "      <th>1</th>\n",
       "      <td>CASUAL DINING</td>\n",
       "      <td>BAR</td>\n",
       "      <td>Asian, Modern Indian, Japanese</td>\n",
       "      <td>Chennai</td>\n",
       "      <td>Ramapuram</td>\n",
       "      <td>4.2</td>\n",
       "      <td>30.0</td>\n",
       "      <td>1500</td>\n",
       "    </tr>\n",
       "    <tr>\n",
       "      <th>2</th>\n",
       "      <td>CASUAL DINING</td>\n",
       "      <td>None</td>\n",
       "      <td>North Indian, Chinese, Biryani, Hyderabadi</td>\n",
       "      <td>Chennai</td>\n",
       "      <td>Saligramam</td>\n",
       "      <td>3.8</td>\n",
       "      <td>221.0</td>\n",
       "      <td>800</td>\n",
       "    </tr>\n",
       "    <tr>\n",
       "      <th>3</th>\n",
       "      <td>QUICK BITES</td>\n",
       "      <td>None</td>\n",
       "      <td>Tibetan, Chinese</td>\n",
       "      <td>Mumbai</td>\n",
       "      <td>Bandra West</td>\n",
       "      <td>4.1</td>\n",
       "      <td>24.0</td>\n",
       "      <td>800</td>\n",
       "    </tr>\n",
       "    <tr>\n",
       "      <th>4</th>\n",
       "      <td>DESSERT PARLOR</td>\n",
       "      <td>None</td>\n",
       "      <td>Desserts</td>\n",
       "      <td>Mumbai</td>\n",
       "      <td>Lower Parel</td>\n",
       "      <td>3.8</td>\n",
       "      <td>165.0</td>\n",
       "      <td>300</td>\n",
       "    </tr>\n",
       "  </tbody>\n",
       "</table>\n",
       "</div>"
      ],
      "text/plain": [
       "          TITLE_1 TITLE_2                                    CUISINES  \\\n",
       "0   CASUAL DINING    None                 Malwani, Goan, North Indian   \n",
       "1   CASUAL DINING     BAR              Asian, Modern Indian, Japanese   \n",
       "2   CASUAL DINING    None  North Indian, Chinese, Biryani, Hyderabadi   \n",
       "3     QUICK BITES    None                            Tibetan, Chinese   \n",
       "4  DESSERT PARLOR    None                                    Desserts   \n",
       "\n",
       "      CITY        LOCALITY  RATING  VOTES  COST  \n",
       "0    Thane  Dombivali East     3.6   49.0  1200  \n",
       "1  Chennai       Ramapuram     4.2   30.0  1500  \n",
       "2  Chennai      Saligramam     3.8  221.0   800  \n",
       "3   Mumbai     Bandra West     4.1   24.0   800  \n",
       "4   Mumbai     Lower Parel     3.8  165.0   300  "
      ]
     },
     "execution_count": 35,
     "metadata": {},
     "output_type": "execute_result"
    }
   ],
   "source": [
    "df_train.rename(columns={0: 'TITLE_1', 1: 'TITLE_2'}, inplace=True)\n",
    "df_train.head()"
   ]
  },
  {
   "cell_type": "code",
   "execution_count": 36,
   "metadata": {},
   "outputs": [
    {
     "data": {
      "text/html": [
       "<div>\n",
       "<style scoped>\n",
       "    .dataframe tbody tr th:only-of-type {\n",
       "        vertical-align: middle;\n",
       "    }\n",
       "\n",
       "    .dataframe tbody tr th {\n",
       "        vertical-align: top;\n",
       "    }\n",
       "\n",
       "    .dataframe thead th {\n",
       "        text-align: right;\n",
       "    }\n",
       "</style>\n",
       "<table border=\"1\" class=\"dataframe\">\n",
       "  <thead>\n",
       "    <tr style=\"text-align: right;\">\n",
       "      <th></th>\n",
       "      <th>TITLE_1</th>\n",
       "      <th>TITLE_2</th>\n",
       "      <th>CUISINES</th>\n",
       "      <th>CITY</th>\n",
       "      <th>LOCALITY</th>\n",
       "      <th>RATING</th>\n",
       "      <th>VOTES</th>\n",
       "    </tr>\n",
       "  </thead>\n",
       "  <tbody>\n",
       "    <tr>\n",
       "      <th>0</th>\n",
       "      <td>CASUAL DINING</td>\n",
       "      <td>None</td>\n",
       "      <td>North Indian, Chinese, Mughlai, Kebab</td>\n",
       "      <td>Noida</td>\n",
       "      <td>Sector 18</td>\n",
       "      <td>4.3</td>\n",
       "      <td>564.0</td>\n",
       "    </tr>\n",
       "    <tr>\n",
       "      <th>1</th>\n",
       "      <td>QUICK BITES</td>\n",
       "      <td>None</td>\n",
       "      <td>South Indian, Fast Food, Pizza, North Indian</td>\n",
       "      <td>Mumbai</td>\n",
       "      <td>Grant Road</td>\n",
       "      <td>4.2</td>\n",
       "      <td>61.0</td>\n",
       "    </tr>\n",
       "    <tr>\n",
       "      <th>2</th>\n",
       "      <td>CASUAL DINING</td>\n",
       "      <td>None</td>\n",
       "      <td>North Indian, Seafood, Biryani, Chinese</td>\n",
       "      <td>Mumbai</td>\n",
       "      <td>Marine Lines</td>\n",
       "      <td>3.8</td>\n",
       "      <td>350.0</td>\n",
       "    </tr>\n",
       "    <tr>\n",
       "      <th>3</th>\n",
       "      <td>None</td>\n",
       "      <td>None</td>\n",
       "      <td>Biryani</td>\n",
       "      <td>Faridabad</td>\n",
       "      <td>NIT</td>\n",
       "      <td>3.8</td>\n",
       "      <td>1445.0</td>\n",
       "    </tr>\n",
       "    <tr>\n",
       "      <th>4</th>\n",
       "      <td>QUICK BITES</td>\n",
       "      <td>None</td>\n",
       "      <td>South Indian, Kerala</td>\n",
       "      <td>Kochi</td>\n",
       "      <td>Kaloor</td>\n",
       "      <td>3.6</td>\n",
       "      <td>23.0</td>\n",
       "    </tr>\n",
       "  </tbody>\n",
       "</table>\n",
       "</div>"
      ],
      "text/plain": [
       "         TITLE_1 TITLE_2                                      CUISINES  \\\n",
       "0  CASUAL DINING    None         North Indian, Chinese, Mughlai, Kebab   \n",
       "1    QUICK BITES    None  South Indian, Fast Food, Pizza, North Indian   \n",
       "2  CASUAL DINING    None       North Indian, Seafood, Biryani, Chinese   \n",
       "3           None    None                                       Biryani   \n",
       "4    QUICK BITES    None                          South Indian, Kerala   \n",
       "\n",
       "        CITY      LOCALITY  RATING   VOTES  \n",
       "0      Noida     Sector 18     4.3   564.0  \n",
       "1     Mumbai    Grant Road     4.2    61.0  \n",
       "2     Mumbai  Marine Lines     3.8   350.0  \n",
       "3  Faridabad           NIT     3.8  1445.0  \n",
       "4      Kochi        Kaloor     3.6    23.0  "
      ]
     },
     "execution_count": 36,
     "metadata": {},
     "output_type": "execute_result"
    }
   ],
   "source": [
    "# Lets split TITLE column for Train data\n",
    "df_title = df_test[\"TITLE\"].str.split(\",\", n = 2, expand = True)\n",
    "# We can see a 'None' data from the above unique titles, so we can fill all other na values as None\n",
    "df_title = df_title.fillna('None')\n",
    "df_test = pd.concat([df_title, df_test], axis=1)\n",
    "df_test = df_test.drop(['TITLE'], axis=1)\n",
    "df_test.rename(columns={0: 'TITLE_1', 1: 'TITLE_2'}, inplace=True)\n",
    "df_test.head()"
   ]
  },
  {
   "cell_type": "code",
   "execution_count": 37,
   "metadata": {},
   "outputs": [
    {
     "name": "stdout",
     "output_type": "stream",
     "text": [
      "No# Unique Titles :  23\n",
      "No# Unique Titles :  20\n"
     ]
    }
   ],
   "source": [
    "# Lets find unique titles for train dataset and store it for encoding\n",
    "title_1_train = split_data_title(df_train['TITLE_1'])\n",
    "title_2_train = split_data_title(df_train['TITLE_2']) "
   ]
  },
  {
   "cell_type": "code",
   "execution_count": 38,
   "metadata": {},
   "outputs": [
    {
     "name": "stdout",
     "output_type": "stream",
     "text": [
      "No# Unique Titles :  24\n",
      "No# Unique Titles :  17\n"
     ]
    }
   ],
   "source": [
    "# Lets find unique titles for test dataset and store it for encoding\n",
    "title_1_test = split_data_title(df_test['TITLE_1'])\n",
    "title_2_test = split_data_title(df_test['TITLE_2']) "
   ]
  },
  {
   "cell_type": "code",
   "execution_count": 39,
   "metadata": {},
   "outputs": [
    {
     "name": "stdout",
     "output_type": "stream",
     "text": [
      "cuisines_count_train :  8\n",
      "cuisines_count_test :  8\n"
     ]
    }
   ],
   "source": [
    "# Lets find number of Cuisines\n",
    "cuisines_count_train = split_data_count(df_train['CUISINES'])\n",
    "print(\"cuisines_count_train : \", cuisines_count_train) \n",
    "cuisines_count_test = split_data_count(df_test['CUISINES'])\n",
    "print(\"cuisines_count_test : \", cuisines_count_test) "
   ]
  },
  {
   "cell_type": "code",
   "execution_count": 40,
   "metadata": {},
   "outputs": [
    {
     "data": {
      "text/html": [
       "<div>\n",
       "<style scoped>\n",
       "    .dataframe tbody tr th:only-of-type {\n",
       "        vertical-align: middle;\n",
       "    }\n",
       "\n",
       "    .dataframe tbody tr th {\n",
       "        vertical-align: top;\n",
       "    }\n",
       "\n",
       "    .dataframe thead th {\n",
       "        text-align: right;\n",
       "    }\n",
       "</style>\n",
       "<table border=\"1\" class=\"dataframe\">\n",
       "  <thead>\n",
       "    <tr style=\"text-align: right;\">\n",
       "      <th></th>\n",
       "      <th>CUISINE_1</th>\n",
       "      <th>CUISINE_2</th>\n",
       "      <th>CUISINE_3</th>\n",
       "      <th>CUISINE_4</th>\n",
       "      <th>CUISINE_5</th>\n",
       "      <th>CUISINE_6</th>\n",
       "      <th>CUISINE_7</th>\n",
       "      <th>CUISINE_8</th>\n",
       "      <th>TITLE_1</th>\n",
       "      <th>TITLE_2</th>\n",
       "      <th>CITY</th>\n",
       "      <th>LOCALITY</th>\n",
       "      <th>RATING</th>\n",
       "      <th>VOTES</th>\n",
       "      <th>COST</th>\n",
       "    </tr>\n",
       "  </thead>\n",
       "  <tbody>\n",
       "    <tr>\n",
       "      <th>0</th>\n",
       "      <td>Malwani</td>\n",
       "      <td>Goan</td>\n",
       "      <td>North Indian</td>\n",
       "      <td>NA</td>\n",
       "      <td>NA</td>\n",
       "      <td>NA</td>\n",
       "      <td>NA</td>\n",
       "      <td>NA</td>\n",
       "      <td>CASUAL DINING</td>\n",
       "      <td>None</td>\n",
       "      <td>Thane</td>\n",
       "      <td>Dombivali East</td>\n",
       "      <td>3.6</td>\n",
       "      <td>49.0</td>\n",
       "      <td>1200</td>\n",
       "    </tr>\n",
       "    <tr>\n",
       "      <th>1</th>\n",
       "      <td>Asian</td>\n",
       "      <td>Modern Indian</td>\n",
       "      <td>Japanese</td>\n",
       "      <td>NA</td>\n",
       "      <td>NA</td>\n",
       "      <td>NA</td>\n",
       "      <td>NA</td>\n",
       "      <td>NA</td>\n",
       "      <td>CASUAL DINING</td>\n",
       "      <td>BAR</td>\n",
       "      <td>Chennai</td>\n",
       "      <td>Ramapuram</td>\n",
       "      <td>4.2</td>\n",
       "      <td>30.0</td>\n",
       "      <td>1500</td>\n",
       "    </tr>\n",
       "    <tr>\n",
       "      <th>2</th>\n",
       "      <td>North Indian</td>\n",
       "      <td>Chinese</td>\n",
       "      <td>Biryani</td>\n",
       "      <td>Hyderabadi</td>\n",
       "      <td>NA</td>\n",
       "      <td>NA</td>\n",
       "      <td>NA</td>\n",
       "      <td>NA</td>\n",
       "      <td>CASUAL DINING</td>\n",
       "      <td>None</td>\n",
       "      <td>Chennai</td>\n",
       "      <td>Saligramam</td>\n",
       "      <td>3.8</td>\n",
       "      <td>221.0</td>\n",
       "      <td>800</td>\n",
       "    </tr>\n",
       "    <tr>\n",
       "      <th>3</th>\n",
       "      <td>Tibetan</td>\n",
       "      <td>Chinese</td>\n",
       "      <td>NA</td>\n",
       "      <td>NA</td>\n",
       "      <td>NA</td>\n",
       "      <td>NA</td>\n",
       "      <td>NA</td>\n",
       "      <td>NA</td>\n",
       "      <td>QUICK BITES</td>\n",
       "      <td>None</td>\n",
       "      <td>Mumbai</td>\n",
       "      <td>Bandra West</td>\n",
       "      <td>4.1</td>\n",
       "      <td>24.0</td>\n",
       "      <td>800</td>\n",
       "    </tr>\n",
       "    <tr>\n",
       "      <th>4</th>\n",
       "      <td>Desserts</td>\n",
       "      <td>NA</td>\n",
       "      <td>NA</td>\n",
       "      <td>NA</td>\n",
       "      <td>NA</td>\n",
       "      <td>NA</td>\n",
       "      <td>NA</td>\n",
       "      <td>NA</td>\n",
       "      <td>DESSERT PARLOR</td>\n",
       "      <td>None</td>\n",
       "      <td>Mumbai</td>\n",
       "      <td>Lower Parel</td>\n",
       "      <td>3.8</td>\n",
       "      <td>165.0</td>\n",
       "      <td>300</td>\n",
       "    </tr>\n",
       "  </tbody>\n",
       "</table>\n",
       "</div>"
      ],
      "text/plain": [
       "      CUISINE_1       CUISINE_2      CUISINE_3    CUISINE_4 CUISINE_5  \\\n",
       "0       Malwani            Goan   North Indian           NA        NA   \n",
       "1         Asian   Modern Indian       Japanese           NA        NA   \n",
       "2  North Indian         Chinese        Biryani   Hyderabadi        NA   \n",
       "3       Tibetan         Chinese             NA           NA        NA   \n",
       "4      Desserts              NA             NA           NA        NA   \n",
       "\n",
       "  CUISINE_6 CUISINE_7 CUISINE_8         TITLE_1 TITLE_2     CITY  \\\n",
       "0        NA        NA        NA   CASUAL DINING    None    Thane   \n",
       "1        NA        NA        NA   CASUAL DINING     BAR  Chennai   \n",
       "2        NA        NA        NA   CASUAL DINING    None  Chennai   \n",
       "3        NA        NA        NA     QUICK BITES    None   Mumbai   \n",
       "4        NA        NA        NA  DESSERT PARLOR    None   Mumbai   \n",
       "\n",
       "         LOCALITY  RATING  VOTES  COST  \n",
       "0  Dombivali East     3.6   49.0  1200  \n",
       "1       Ramapuram     4.2   30.0  1500  \n",
       "2      Saligramam     3.8  221.0   800  \n",
       "3     Bandra West     4.1   24.0   800  \n",
       "4     Lower Parel     3.8  165.0   300  "
      ]
     },
     "execution_count": 40,
     "metadata": {},
     "output_type": "execute_result"
    }
   ],
   "source": [
    "# Lets find unique Cuisines\n",
    "# Lets split TITLE column for Train data\n",
    "df_cuisines = df_train[\"CUISINES\"].str.split(\",\", n = 8, expand = True)\n",
    "df_cuisines = df_cuisines.fillna('NA')\n",
    "df_train = pd.concat([df_cuisines, df_train], axis=1)\n",
    "df_train = df_train.drop(['CUISINES'], axis=1)\n",
    "df_train.rename(columns={0: 'CUISINE_1', 1: 'CUISINE_2', 2: 'CUISINE_3', 3: 'CUISINE_4', 4: 'CUISINE_5', 5: 'CUISINE_6', 6: 'CUISINE_7', 7: 'CUISINE_8'}, inplace=True)\n",
    "df_train.head()"
   ]
  },
  {
   "cell_type": "code",
   "execution_count": 41,
   "metadata": {},
   "outputs": [
    {
     "data": {
      "text/html": [
       "<div>\n",
       "<style scoped>\n",
       "    .dataframe tbody tr th:only-of-type {\n",
       "        vertical-align: middle;\n",
       "    }\n",
       "\n",
       "    .dataframe tbody tr th {\n",
       "        vertical-align: top;\n",
       "    }\n",
       "\n",
       "    .dataframe thead th {\n",
       "        text-align: right;\n",
       "    }\n",
       "</style>\n",
       "<table border=\"1\" class=\"dataframe\">\n",
       "  <thead>\n",
       "    <tr style=\"text-align: right;\">\n",
       "      <th></th>\n",
       "      <th>CUISINE_1</th>\n",
       "      <th>CUISINE_2</th>\n",
       "      <th>CUISINE_3</th>\n",
       "      <th>CUISINE_4</th>\n",
       "      <th>CUISINE_5</th>\n",
       "      <th>CUISINE_6</th>\n",
       "      <th>CUISINE_7</th>\n",
       "      <th>CUISINE_8</th>\n",
       "      <th>TITLE_1</th>\n",
       "      <th>TITLE_2</th>\n",
       "      <th>CITY</th>\n",
       "      <th>LOCALITY</th>\n",
       "      <th>RATING</th>\n",
       "      <th>VOTES</th>\n",
       "    </tr>\n",
       "  </thead>\n",
       "  <tbody>\n",
       "    <tr>\n",
       "      <th>0</th>\n",
       "      <td>North Indian</td>\n",
       "      <td>Chinese</td>\n",
       "      <td>Mughlai</td>\n",
       "      <td>Kebab</td>\n",
       "      <td>NA</td>\n",
       "      <td>NA</td>\n",
       "      <td>NA</td>\n",
       "      <td>NA</td>\n",
       "      <td>CASUAL DINING</td>\n",
       "      <td>None</td>\n",
       "      <td>Noida</td>\n",
       "      <td>Sector 18</td>\n",
       "      <td>4.3</td>\n",
       "      <td>564.0</td>\n",
       "    </tr>\n",
       "    <tr>\n",
       "      <th>1</th>\n",
       "      <td>South Indian</td>\n",
       "      <td>Fast Food</td>\n",
       "      <td>Pizza</td>\n",
       "      <td>North Indian</td>\n",
       "      <td>NA</td>\n",
       "      <td>NA</td>\n",
       "      <td>NA</td>\n",
       "      <td>NA</td>\n",
       "      <td>QUICK BITES</td>\n",
       "      <td>None</td>\n",
       "      <td>Mumbai</td>\n",
       "      <td>Grant Road</td>\n",
       "      <td>4.2</td>\n",
       "      <td>61.0</td>\n",
       "    </tr>\n",
       "    <tr>\n",
       "      <th>2</th>\n",
       "      <td>North Indian</td>\n",
       "      <td>Seafood</td>\n",
       "      <td>Biryani</td>\n",
       "      <td>Chinese</td>\n",
       "      <td>NA</td>\n",
       "      <td>NA</td>\n",
       "      <td>NA</td>\n",
       "      <td>NA</td>\n",
       "      <td>CASUAL DINING</td>\n",
       "      <td>None</td>\n",
       "      <td>Mumbai</td>\n",
       "      <td>Marine Lines</td>\n",
       "      <td>3.8</td>\n",
       "      <td>350.0</td>\n",
       "    </tr>\n",
       "    <tr>\n",
       "      <th>3</th>\n",
       "      <td>Biryani</td>\n",
       "      <td>NA</td>\n",
       "      <td>NA</td>\n",
       "      <td>NA</td>\n",
       "      <td>NA</td>\n",
       "      <td>NA</td>\n",
       "      <td>NA</td>\n",
       "      <td>NA</td>\n",
       "      <td>None</td>\n",
       "      <td>None</td>\n",
       "      <td>Faridabad</td>\n",
       "      <td>NIT</td>\n",
       "      <td>3.8</td>\n",
       "      <td>1445.0</td>\n",
       "    </tr>\n",
       "    <tr>\n",
       "      <th>4</th>\n",
       "      <td>South Indian</td>\n",
       "      <td>Kerala</td>\n",
       "      <td>NA</td>\n",
       "      <td>NA</td>\n",
       "      <td>NA</td>\n",
       "      <td>NA</td>\n",
       "      <td>NA</td>\n",
       "      <td>NA</td>\n",
       "      <td>QUICK BITES</td>\n",
       "      <td>None</td>\n",
       "      <td>Kochi</td>\n",
       "      <td>Kaloor</td>\n",
       "      <td>3.6</td>\n",
       "      <td>23.0</td>\n",
       "    </tr>\n",
       "  </tbody>\n",
       "</table>\n",
       "</div>"
      ],
      "text/plain": [
       "      CUISINE_1   CUISINE_2 CUISINE_3      CUISINE_4 CUISINE_5 CUISINE_6  \\\n",
       "0  North Indian     Chinese   Mughlai          Kebab        NA        NA   \n",
       "1  South Indian   Fast Food     Pizza   North Indian        NA        NA   \n",
       "2  North Indian     Seafood   Biryani        Chinese        NA        NA   \n",
       "3       Biryani          NA        NA             NA        NA        NA   \n",
       "4  South Indian      Kerala        NA             NA        NA        NA   \n",
       "\n",
       "  CUISINE_7 CUISINE_8        TITLE_1 TITLE_2       CITY      LOCALITY  RATING  \\\n",
       "0        NA        NA  CASUAL DINING    None      Noida     Sector 18     4.3   \n",
       "1        NA        NA    QUICK BITES    None     Mumbai    Grant Road     4.2   \n",
       "2        NA        NA  CASUAL DINING    None     Mumbai  Marine Lines     3.8   \n",
       "3        NA        NA           None    None  Faridabad           NIT     3.8   \n",
       "4        NA        NA    QUICK BITES    None      Kochi        Kaloor     3.6   \n",
       "\n",
       "    VOTES  \n",
       "0   564.0  \n",
       "1    61.0  \n",
       "2   350.0  \n",
       "3  1445.0  \n",
       "4    23.0  "
      ]
     },
     "execution_count": 41,
     "metadata": {},
     "output_type": "execute_result"
    }
   ],
   "source": [
    "# Lets find unique Cuisines\n",
    "# Lets split TITLE column for Test data\n",
    "df_cuisines = df_test[\"CUISINES\"].str.split(\",\", n = 8, expand = True)\n",
    "df_cuisines = df_cuisines.fillna('NA')\n",
    "df_test = pd.concat([df_cuisines, df_test], axis=1)\n",
    "df_test = df_test.drop(['CUISINES'], axis=1)\n",
    "df_test.rename(columns={0: 'CUISINE_1', 1: 'CUISINE_2', 2: 'CUISINE_3', 3: 'CUISINE_4', 4: 'CUISINE_5', 5: 'CUISINE_6', 6: 'CUISINE_7', 7: 'CUISINE_8'}, inplace=True)\n",
    "df_test.head()"
   ]
  },
  {
   "cell_type": "code",
   "execution_count": 42,
   "metadata": {},
   "outputs": [],
   "source": [
    "# Removing leading and trailing spaces from train and test dataset\n",
    "df_train[\"CUISINE_1\"] = df_train[\"CUISINE_1\"].str.strip()\n",
    "df_train[\"CUISINE_2\"] = df_train[\"CUISINE_2\"].str.strip()\n",
    "df_train[\"CUISINE_3\"] = df_train[\"CUISINE_3\"].str.strip()\n",
    "df_train[\"CUISINE_4\"] = df_train[\"CUISINE_4\"].str.strip()\n",
    "df_train[\"CUISINE_5\"] = df_train[\"CUISINE_5\"].str.strip()\n",
    "df_train[\"CUISINE_6\"] = df_train[\"CUISINE_6\"].str.strip()\n",
    "df_train[\"CUISINE_7\"] = df_train[\"CUISINE_7\"].str.strip()\n",
    "df_train[\"CUISINE_8\"] = df_train[\"CUISINE_8\"].str.strip()\n",
    "\n",
    "df_test[\"CUISINE_1\"] = df_test[\"CUISINE_1\"].str.strip()\n",
    "df_test[\"CUISINE_2\"] = df_test[\"CUISINE_2\"].str.strip()\n",
    "df_test[\"CUISINE_3\"] = df_test[\"CUISINE_3\"].str.strip()\n",
    "df_test[\"CUISINE_4\"] = df_test[\"CUISINE_4\"].str.strip()\n",
    "df_test[\"CUISINE_5\"] = df_test[\"CUISINE_5\"].str.strip()\n",
    "df_test[\"CUISINE_6\"] = df_test[\"CUISINE_6\"].str.strip()\n",
    "df_test[\"CUISINE_7\"] = df_test[\"CUISINE_7\"].str.strip()\n",
    "df_test[\"CUISINE_8\"] = df_test[\"CUISINE_8\"].str.strip()"
   ]
  },
  {
   "cell_type": "code",
   "execution_count": 43,
   "metadata": {},
   "outputs": [
    {
     "name": "stdout",
     "output_type": "stream",
     "text": [
      "No# Unique Titles :  104\n",
      "No# Unique Titles :  99\n",
      "No# Unique Titles :  94\n",
      "No# Unique Titles :  86\n",
      "No# Unique Titles :  79\n",
      "No# Unique Titles :  70\n",
      "No# Unique Titles :  47\n",
      "No# Unique Titles :  19\n",
      "No# Unique Titles :  82\n",
      "No# Unique Titles :  82\n",
      "No# Unique Titles :  81\n",
      "No# Unique Titles :  69\n",
      "No# Unique Titles :  58\n",
      "No# Unique Titles :  43\n",
      "No# Unique Titles :  34\n",
      "No# Unique Titles :  7\n"
     ]
    }
   ],
   "source": [
    "# Lets find unique cuisines and store it for encoding\n",
    "cuisine_1_train = split_data_title(df_train['CUISINE_1'])\n",
    "cuisine_2_train = split_data_title(df_train['CUISINE_2'])\n",
    "cuisine_3_train = split_data_title(df_train['CUISINE_3'])\n",
    "cuisine_4_train = split_data_title(df_train['CUISINE_4'])\n",
    "cuisine_5_train = split_data_title(df_train['CUISINE_5'])\n",
    "cuisine_6_train = split_data_title(df_train['CUISINE_6'])\n",
    "cuisine_7_train = split_data_title(df_train['CUISINE_7'])\n",
    "cuisine_8_train = split_data_title(df_train['CUISINE_8'])\n",
    "\n",
    "cuisine_1_test = split_data_title(df_test['CUISINE_1'])\n",
    "cuisine_2_test = split_data_title(df_test['CUISINE_2'])\n",
    "cuisine_3_test = split_data_title(df_test['CUISINE_3'])\n",
    "cuisine_4_test = split_data_title(df_test['CUISINE_4'])\n",
    "cuisine_5_test = split_data_title(df_test['CUISINE_5'])\n",
    "cuisine_6_test = split_data_title(df_test['CUISINE_6'])\n",
    "cuisine_7_test = split_data_title(df_test['CUISINE_7'])\n",
    "cuisine_8_test = split_data_title(df_test['CUISINE_8'])"
   ]
  },
  {
   "cell_type": "code",
   "execution_count": 44,
   "metadata": {},
   "outputs": [
    {
     "name": "stdout",
     "output_type": "stream",
     "text": [
      "1\n",
      "1\n"
     ]
    }
   ],
   "source": [
    "# Lets find number of cities\n",
    "city_count_train = split_data_count(df_train['CITY'])\n",
    "print(city_count_train)\n",
    "city_count_test = split_data_count(df_test['CITY'])\n",
    "print(city_count_test)"
   ]
  },
  {
   "cell_type": "code",
   "execution_count": 45,
   "metadata": {},
   "outputs": [
    {
     "name": "stdout",
     "output_type": "stream",
     "text": [
      "No# Unique Titles :  358\n",
      "No# Unique Titles :  151\n"
     ]
    }
   ],
   "source": [
    "# Lets find unique cities\n",
    "city_train = split_data_title(df_train['CITY'])\n",
    "city_test = split_data_title(df_test['CITY'])"
   ]
  },
  {
   "cell_type": "code",
   "execution_count": 46,
   "metadata": {},
   "outputs": [
    {
     "name": "stdout",
     "output_type": "stream",
     "text": [
      "1\n",
      "1\n"
     ]
    }
   ],
   "source": [
    "# Lets find number of LOCALITY\n",
    "locality_count_train = split_data_count(df_train['LOCALITY'])\n",
    "print(locality_count_train)\n",
    "locality_count_test = split_data_count(df_test['LOCALITY'])\n",
    "print(locality_count_test)"
   ]
  },
  {
   "cell_type": "code",
   "execution_count": 47,
   "metadata": {},
   "outputs": [
    {
     "name": "stdout",
     "output_type": "stream",
     "text": [
      "No# Unique Titles :  1413\n",
      "No# Unique Titles :  832\n"
     ]
    }
   ],
   "source": [
    "# Lets find unique cities\n",
    "locality_train = split_data_title(df_train['LOCALITY'])\n",
    "locality_test = split_data_title(df_test['LOCALITY'])"
   ]
  },
  {
   "cell_type": "code",
   "execution_count": 48,
   "metadata": {},
   "outputs": [
    {
     "name": "stdout",
     "output_type": "stream",
     "text": [
      "<class 'pandas.core.frame.DataFrame'>\n",
      "Int64Index: 12550 entries, 0 to 12689\n",
      "Data columns (total 15 columns):\n",
      "CUISINE_1    12550 non-null object\n",
      "CUISINE_2    12550 non-null object\n",
      "CUISINE_3    12550 non-null object\n",
      "CUISINE_4    12550 non-null object\n",
      "CUISINE_5    12550 non-null object\n",
      "CUISINE_6    12550 non-null object\n",
      "CUISINE_7    12550 non-null object\n",
      "CUISINE_8    12550 non-null object\n",
      "TITLE_1      12550 non-null object\n",
      "TITLE_2      12550 non-null object\n",
      "CITY         12550 non-null object\n",
      "LOCALITY     12550 non-null object\n",
      "RATING       12550 non-null float64\n",
      "VOTES        12550 non-null float64\n",
      "COST         12550 non-null int64\n",
      "dtypes: float64(2), int64(1), object(12)\n",
      "memory usage: 1.5+ MB\n",
      "None\n",
      "<class 'pandas.core.frame.DataFrame'>\n",
      "Int64Index: 4193 entries, 0 to 4230\n",
      "Data columns (total 14 columns):\n",
      "CUISINE_1    4193 non-null object\n",
      "CUISINE_2    4193 non-null object\n",
      "CUISINE_3    4193 non-null object\n",
      "CUISINE_4    4193 non-null object\n",
      "CUISINE_5    4193 non-null object\n",
      "CUISINE_6    4193 non-null object\n",
      "CUISINE_7    4193 non-null object\n",
      "CUISINE_8    4193 non-null object\n",
      "TITLE_1      4193 non-null object\n",
      "TITLE_2      4193 non-null object\n",
      "CITY         4193 non-null object\n",
      "LOCALITY     4193 non-null object\n",
      "RATING       4193 non-null float64\n",
      "VOTES        4193 non-null float64\n",
      "dtypes: float64(2), object(12)\n",
      "memory usage: 491.4+ KB\n",
      "None\n"
     ]
    }
   ],
   "source": [
    "print(df_train.info())\n",
    "print(df_test.info())"
   ]
  },
  {
   "cell_type": "code",
   "execution_count": 49,
   "metadata": {},
   "outputs": [
    {
     "data": {
      "text/plain": [
       "CUISINE_1    0\n",
       "CUISINE_2    0\n",
       "CUISINE_3    0\n",
       "CUISINE_4    0\n",
       "CUISINE_5    0\n",
       "CUISINE_6    0\n",
       "CUISINE_7    0\n",
       "CUISINE_8    0\n",
       "TITLE_1      0\n",
       "TITLE_2      0\n",
       "CITY         0\n",
       "LOCALITY     0\n",
       "RATING       0\n",
       "VOTES        0\n",
       "COST         0\n",
       "dtype: int64"
      ]
     },
     "execution_count": 49,
     "metadata": {},
     "output_type": "execute_result"
    }
   ],
   "source": [
    "df_train.isnull().sum()"
   ]
  },
  {
   "cell_type": "code",
   "execution_count": 50,
   "metadata": {},
   "outputs": [],
   "source": [
    "# Encoding Categorical Variables for train data\n",
    "from sklearn.preprocessing import LabelEncoder\n",
    "\n",
    "le_titles_1   = LabelEncoder()\n",
    "le_titles_2   = LabelEncoder()\n",
    "\n",
    "le_cuisines_1 = LabelEncoder()\n",
    "le_cuisines_2 = LabelEncoder()\n",
    "le_cuisines_3 = LabelEncoder()  \n",
    "le_cuisines_4 = LabelEncoder()\n",
    "le_cuisines_5 = LabelEncoder()\n",
    "le_cuisines_6 = LabelEncoder()\n",
    "le_cuisines_7 = LabelEncoder()\n",
    "le_cuisines_8 = LabelEncoder()\n",
    "\n",
    "le_city       = LabelEncoder()\n",
    "le_locality   = LabelEncoder()\n",
    "\n",
    "le_titles_1.fit(title_1_train)\n",
    "le_titles_2.fit(title_2_train)\n",
    "\n",
    "le_cuisines_1.fit(cuisine_1_train)\n",
    "le_cuisines_2.fit(cuisine_2_train)\n",
    "le_cuisines_3.fit(cuisine_3_train)\n",
    "le_cuisines_4.fit(cuisine_4_train)\n",
    "le_cuisines_5.fit(cuisine_5_train)\n",
    "le_cuisines_6.fit(cuisine_6_train)\n",
    "le_cuisines_7.fit(cuisine_7_train)\n",
    "le_cuisines_8.fit(cuisine_8_train)\n",
    "\n",
    "le_city.fit(city_train)\n",
    "le_locality.fit(locality_train)\n",
    "\n",
    "df_train['TITLE_1'] = le_titles_1.transform(df_train['TITLE_1'])\n",
    "df_train['TITLE_2'] = le_titles_2.transform(df_train['TITLE_2'])\n",
    "\n",
    "df_train['CUISINE_1'] = le_cuisines_1.transform(df_train['CUISINE_1'])\n",
    "df_train['CUISINE_2'] = le_cuisines_2.transform(df_train['CUISINE_2'])\n",
    "df_train['CUISINE_3'] = le_cuisines_3.transform(df_train['CUISINE_3'])\n",
    "df_train['CUISINE_4'] = le_cuisines_4.transform(df_train['CUISINE_4'])\n",
    "df_train['CUISINE_5'] = le_cuisines_5.transform(df_train['CUISINE_5'])\n",
    "df_train['CUISINE_6'] = le_cuisines_6.transform(df_train['CUISINE_6'])\n",
    "df_train['CUISINE_7'] = le_cuisines_7.transform(df_train['CUISINE_7'])\n",
    "df_train['CUISINE_8'] = le_cuisines_8.transform(df_train['CUISINE_8'])\n",
    "\n",
    "df_train['CITY'] = le_city.transform(df_train['CITY'])\n",
    "df_train['LOCALITY'] = le_locality.transform(df_train['LOCALITY'])"
   ]
  },
  {
   "cell_type": "code",
   "execution_count": 51,
   "metadata": {},
   "outputs": [
    {
     "name": "stdout",
     "output_type": "stream",
     "text": [
      "<class 'pandas.core.frame.DataFrame'>\n",
      "Int64Index: 12550 entries, 0 to 12689\n",
      "Data columns (total 15 columns):\n",
      "CUISINE_1    12550 non-null int32\n",
      "CUISINE_2    12550 non-null int32\n",
      "CUISINE_3    12550 non-null int32\n",
      "CUISINE_4    12550 non-null int32\n",
      "CUISINE_5    12550 non-null int32\n",
      "CUISINE_6    12550 non-null int32\n",
      "CUISINE_7    12550 non-null int32\n",
      "CUISINE_8    12550 non-null int32\n",
      "TITLE_1      12550 non-null int32\n",
      "TITLE_2      12550 non-null int32\n",
      "CITY         12550 non-null int32\n",
      "LOCALITY     12550 non-null int32\n",
      "RATING       12550 non-null float64\n",
      "VOTES        12550 non-null float64\n",
      "COST         12550 non-null int64\n",
      "dtypes: float64(2), int32(12), int64(1)\n",
      "memory usage: 980.5 KB\n"
     ]
    }
   ],
   "source": [
    "df_train.info()"
   ]
  },
  {
   "cell_type": "code",
   "execution_count": 52,
   "metadata": {},
   "outputs": [],
   "source": [
    "# Encoding Categorical Variables for test data\n",
    "from sklearn.preprocessing import LabelEncoder\n",
    "\n",
    "le_titles_1   = LabelEncoder()\n",
    "le_titles_2   = LabelEncoder()\n",
    "\n",
    "le_cuisines_1 = LabelEncoder()\n",
    "le_cuisines_2 = LabelEncoder()\n",
    "le_cuisines_3 = LabelEncoder()  \n",
    "le_cuisines_4 = LabelEncoder()\n",
    "le_cuisines_5 = LabelEncoder()\n",
    "le_cuisines_6 = LabelEncoder()\n",
    "le_cuisines_7 = LabelEncoder()\n",
    "le_cuisines_8 = LabelEncoder()\n",
    "\n",
    "le_city       = LabelEncoder()\n",
    "le_locality   = LabelEncoder()\n",
    "\n",
    "le_titles_1.fit(title_1_test)\n",
    "le_titles_2.fit(title_2_test)\n",
    "\n",
    "le_cuisines_1.fit(cuisine_1_test)\n",
    "le_cuisines_2.fit(cuisine_2_test)\n",
    "le_cuisines_3.fit(cuisine_3_test)\n",
    "le_cuisines_4.fit(cuisine_4_test)\n",
    "le_cuisines_5.fit(cuisine_5_test)\n",
    "le_cuisines_6.fit(cuisine_6_test)\n",
    "le_cuisines_7.fit(cuisine_7_test)\n",
    "le_cuisines_8.fit(cuisine_8_test)\n",
    "\n",
    "le_city.fit(city_test)\n",
    "le_locality.fit(locality_test)\n",
    "\n",
    "df_test['TITLE_1'] = le_titles_1.transform(df_test['TITLE_1'])\n",
    "df_test['TITLE_2'] = le_titles_2.transform(df_test['TITLE_2'])\n",
    "\n",
    "df_test['CUISINE_1'] = le_cuisines_1.transform(df_test['CUISINE_1'])\n",
    "df_test['CUISINE_2'] = le_cuisines_2.transform(df_test['CUISINE_2'])\n",
    "df_test['CUISINE_3'] = le_cuisines_3.transform(df_test['CUISINE_3'])\n",
    "df_test['CUISINE_4'] = le_cuisines_4.transform(df_test['CUISINE_4'])\n",
    "df_test['CUISINE_5'] = le_cuisines_5.transform(df_test['CUISINE_5'])\n",
    "df_test['CUISINE_6'] = le_cuisines_6.transform(df_test['CUISINE_6'])\n",
    "df_test['CUISINE_7'] = le_cuisines_7.transform(df_test['CUISINE_7'])\n",
    "df_test['CUISINE_8'] = le_cuisines_8.transform(df_test['CUISINE_8'])\n",
    "\n",
    "df_test['CITY'] = le_city.transform(df_test['CITY'])\n",
    "df_test['LOCALITY'] = le_locality.transform(df_test['LOCALITY'])\n"
   ]
  },
  {
   "cell_type": "code",
   "execution_count": 53,
   "metadata": {},
   "outputs": [
    {
     "name": "stdout",
     "output_type": "stream",
     "text": [
      "<class 'pandas.core.frame.DataFrame'>\n",
      "Int64Index: 4193 entries, 0 to 4230\n",
      "Data columns (total 14 columns):\n",
      "CUISINE_1    4193 non-null int32\n",
      "CUISINE_2    4193 non-null int32\n",
      "CUISINE_3    4193 non-null int32\n",
      "CUISINE_4    4193 non-null int32\n",
      "CUISINE_5    4193 non-null int32\n",
      "CUISINE_6    4193 non-null int32\n",
      "CUISINE_7    4193 non-null int32\n",
      "CUISINE_8    4193 non-null int32\n",
      "TITLE_1      4193 non-null int32\n",
      "TITLE_2      4193 non-null int32\n",
      "CITY         4193 non-null int32\n",
      "LOCALITY     4193 non-null int32\n",
      "RATING       4193 non-null float64\n",
      "VOTES        4193 non-null float64\n",
      "dtypes: float64(2), int32(12)\n",
      "memory usage: 294.8 KB\n"
     ]
    }
   ],
   "source": [
    "df_test.info()"
   ]
  },
  {
   "cell_type": "code",
   "execution_count": 55,
   "metadata": {},
   "outputs": [
    {
     "data": {
      "image/png": "[encoded data removed]",
      "text/plain": [
       "<Figure size 1080x720 with 2 Axes>"
      ]
     },
     "metadata": {
      "needs_background": "light"
     },
     "output_type": "display_data"
    }
   ],
   "source": [
    "# Let's plot the train set correlation matrix\n",
    "corr_matrix = df_train.corr()\n",
    "fig, ax = plt.subplots(figsize=(15, 10))\n",
    "ax = sns.heatmap(corr_matrix,\n",
    "                 annot=True,\n",
    "                 linewidths=0.5,\n",
    "                 fmt=\".2f\",\n",
    "                 cmap=\"YlGnBu\");"
   ]
  },
  {
   "cell_type": "code",
   "execution_count": 56,
   "metadata": {},
   "outputs": [
    {
     "data": {
      "image/png": "[encoded data removed]",
      "text/plain": [
       "<Figure size 1080x720 with 2 Axes>"
      ]
     },
     "metadata": {
      "needs_background": "light"
     },
     "output_type": "display_data"
    }
   ],
   "source": [
    "# Let's plot the test set correlation matrix\n",
    "corr_matrix = df_test.corr()\n",
    "fig, ax = plt.subplots(figsize=(15, 10))\n",
    "ax = sns.heatmap(corr_matrix,\n",
    "                 annot=True,\n",
    "                 linewidths=0.5,\n",
    "                 fmt=\".2f\",\n",
    "                 cmap=\"YlGnBu\");"
   ]
  },
  {
   "cell_type": "code",
   "execution_count": 58,
   "metadata": {},
   "outputs": [],
   "source": [
    "# Lets start modelling\n",
    "# Split data into X and y\n",
    "X = df_train.drop(\"COST\", axis=1)\n",
    "y = df_train[\"COST\"]\n"
   ]
  },
  {
   "cell_type": "code",
   "execution_count": 59,
   "metadata": {},
   "outputs": [
    {
     "data": {
      "text/html": [
       "<div>\n",
       "<style scoped>\n",
       "    .dataframe tbody tr th:only-of-type {\n",
       "        vertical-align: middle;\n",
       "    }\n",
       "\n",
       "    .dataframe tbody tr th {\n",
       "        vertical-align: top;\n",
       "    }\n",
       "\n",
       "    .dataframe thead th {\n",
       "        text-align: right;\n",
       "    }\n",
       "</style>\n",
       "<table border=\"1\" class=\"dataframe\">\n",
       "  <thead>\n",
       "    <tr style=\"text-align: right;\">\n",
       "      <th></th>\n",
       "      <th>0</th>\n",
       "      <th>1</th>\n",
       "      <th>2</th>\n",
       "      <th>3</th>\n",
       "      <th>4</th>\n",
       "      <th>5</th>\n",
       "      <th>6</th>\n",
       "      <th>7</th>\n",
       "      <th>8</th>\n",
       "      <th>9</th>\n",
       "      <th>10</th>\n",
       "      <th>11</th>\n",
       "      <th>12</th>\n",
       "      <th>13</th>\n",
       "    </tr>\n",
       "  </thead>\n",
       "  <tbody>\n",
       "    <tr>\n",
       "      <th>0</th>\n",
       "      <td>0.340805</td>\n",
       "      <td>-0.647691</td>\n",
       "      <td>0.664473</td>\n",
       "      <td>0.318026</td>\n",
       "      <td>0.193058</td>\n",
       "      <td>0.100218</td>\n",
       "      <td>0.083232</td>\n",
       "      <td>0.071199</td>\n",
       "      <td>-0.914362</td>\n",
       "      <td>0.269184</td>\n",
       "      <td>2.113738</td>\n",
       "      <td>-0.926168</td>\n",
       "      <td>-0.483516</td>\n",
       "      <td>-0.456708</td>\n",
       "    </tr>\n",
       "    <tr>\n",
       "      <th>1</th>\n",
       "      <td>-1.519812</td>\n",
       "      <td>0.515859</td>\n",
       "      <td>-0.576797</td>\n",
       "      <td>0.318026</td>\n",
       "      <td>0.193058</td>\n",
       "      <td>0.100218</td>\n",
       "      <td>0.083232</td>\n",
       "      <td>0.071199</td>\n",
       "      <td>-0.914362</td>\n",
       "      <td>-3.752551</td>\n",
       "      <td>-0.903187</td>\n",
       "      <td>0.976277</td>\n",
       "      <td>1.004560</td>\n",
       "      <td>-0.480299</td>\n",
       "    </tr>\n",
       "    <tr>\n",
       "      <th>2</th>\n",
       "      <td>0.797183</td>\n",
       "      <td>-1.021689</td>\n",
       "      <td>-1.961291</td>\n",
       "      <td>-1.650589</td>\n",
       "      <td>0.193058</td>\n",
       "      <td>0.100218</td>\n",
       "      <td>0.083232</td>\n",
       "      <td>0.071199</td>\n",
       "      <td>-0.914362</td>\n",
       "      <td>0.269184</td>\n",
       "      <td>-0.903187</td>\n",
       "      <td>1.114136</td>\n",
       "      <td>0.012509</td>\n",
       "      <td>-0.243147</td>\n",
       "    </tr>\n",
       "    <tr>\n",
       "      <th>3</th>\n",
       "      <td>1.780150</td>\n",
       "      <td>-1.021689</td>\n",
       "      <td>0.521250</td>\n",
       "      <td>0.318026</td>\n",
       "      <td>0.193058</td>\n",
       "      <td>0.100218</td>\n",
       "      <td>0.083232</td>\n",
       "      <td>0.071199</td>\n",
       "      <td>1.149618</td>\n",
       "      <td>0.269184</td>\n",
       "      <td>0.940489</td>\n",
       "      <td>-1.299639</td>\n",
       "      <td>0.756547</td>\n",
       "      <td>-0.487749</td>\n",
       "    </tr>\n",
       "    <tr>\n",
       "      <th>4</th>\n",
       "      <td>-0.747480</td>\n",
       "      <td>0.640525</td>\n",
       "      <td>0.521250</td>\n",
       "      <td>0.318026</td>\n",
       "      <td>0.193058</td>\n",
       "      <td>0.100218</td>\n",
       "      <td>0.083232</td>\n",
       "      <td>0.071199</td>\n",
       "      <td>-0.428720</td>\n",
       "      <td>0.269184</td>\n",
       "      <td>0.940489</td>\n",
       "      <td>-0.086485</td>\n",
       "      <td>0.012509</td>\n",
       "      <td>-0.312679</td>\n",
       "    </tr>\n",
       "  </tbody>\n",
       "</table>\n",
       "</div>"
      ],
      "text/plain": [
       "         0         1         2         3         4         5         6   \\\n",
       "0  0.340805 -0.647691  0.664473  0.318026  0.193058  0.100218  0.083232   \n",
       "1 -1.519812  0.515859 -0.576797  0.318026  0.193058  0.100218  0.083232   \n",
       "2  0.797183 -1.021689 -1.961291 -1.650589  0.193058  0.100218  0.083232   \n",
       "3  1.780150 -1.021689  0.521250  0.318026  0.193058  0.100218  0.083232   \n",
       "4 -0.747480  0.640525  0.521250  0.318026  0.193058  0.100218  0.083232   \n",
       "\n",
       "         7         8         9         10        11        12        13  \n",
       "0  0.071199 -0.914362  0.269184  2.113738 -0.926168 -0.483516 -0.456708  \n",
       "1  0.071199 -0.914362 -3.752551 -0.903187  0.976277  1.004560 -0.480299  \n",
       "2  0.071199 -0.914362  0.269184 -0.903187  1.114136  0.012509 -0.243147  \n",
       "3  0.071199  1.149618  0.269184  0.940489 -1.299639  0.756547 -0.487749  \n",
       "4  0.071199 -0.428720  0.269184  0.940489 -0.086485  0.012509 -0.312679  "
      ]
     },
     "execution_count": 59,
     "metadata": {},
     "output_type": "execute_result"
    }
   ],
   "source": [
    "from sklearn.preprocessing import StandardScaler\n",
    "scaler=StandardScaler()\n",
    "X=pd.DataFrame(scaler.fit_transform(X))\n",
    "X.head()"
   ]
  },
  {
   "cell_type": "code",
   "execution_count": 74,
   "metadata": {},
   "outputs": [
    {
     "data": {
      "text/html": [
       "<div>\n",
       "<style scoped>\n",
       "    .dataframe tbody tr th:only-of-type {\n",
       "        vertical-align: middle;\n",
       "    }\n",
       "\n",
       "    .dataframe tbody tr th {\n",
       "        vertical-align: top;\n",
       "    }\n",
       "\n",
       "    .dataframe thead th {\n",
       "        text-align: right;\n",
       "    }\n",
       "</style>\n",
       "<table border=\"1\" class=\"dataframe\">\n",
       "  <thead>\n",
       "    <tr style=\"text-align: right;\">\n",
       "      <th></th>\n",
       "      <th>0</th>\n",
       "      <th>1</th>\n",
       "      <th>2</th>\n",
       "      <th>3</th>\n",
       "      <th>4</th>\n",
       "      <th>5</th>\n",
       "      <th>6</th>\n",
       "      <th>7</th>\n",
       "      <th>8</th>\n",
       "      <th>9</th>\n",
       "      <th>10</th>\n",
       "      <th>11</th>\n",
       "      <th>12</th>\n",
       "      <th>13</th>\n",
       "    </tr>\n",
       "  </thead>\n",
       "  <tbody>\n",
       "    <tr>\n",
       "      <th>0</th>\n",
       "      <td>0.835199</td>\n",
       "      <td>-1.031652</td>\n",
       "      <td>0.464343</td>\n",
       "      <td>-1.023257</td>\n",
       "      <td>0.200993</td>\n",
       "      <td>0.119562</td>\n",
       "      <td>0.097616</td>\n",
       "      <td>0.081061</td>\n",
       "      <td>-0.886268</td>\n",
       "      <td>0.264855</td>\n",
       "      <td>1.329495</td>\n",
       "      <td>1.179262</td>\n",
       "      <td>1.256662</td>\n",
       "      <td>0.167444</td>\n",
       "    </tr>\n",
       "    <tr>\n",
       "      <th>1</th>\n",
       "      <td>1.396401</td>\n",
       "      <td>-0.799954</td>\n",
       "      <td>0.803255</td>\n",
       "      <td>0.496523</td>\n",
       "      <td>0.200993</td>\n",
       "      <td>0.119562</td>\n",
       "      <td>0.097616</td>\n",
       "      <td>0.081061</td>\n",
       "      <td>1.146033</td>\n",
       "      <td>0.264855</td>\n",
       "      <td>0.966871</td>\n",
       "      <td>-0.690398</td>\n",
       "      <td>1.013876</td>\n",
       "      <td>-0.466201</td>\n",
       "    </tr>\n",
       "    <tr>\n",
       "      <th>2</th>\n",
       "      <td>0.835199</td>\n",
       "      <td>1.331672</td>\n",
       "      <td>-1.964525</td>\n",
       "      <td>-2.632436</td>\n",
       "      <td>0.200993</td>\n",
       "      <td>0.119562</td>\n",
       "      <td>0.097616</td>\n",
       "      <td>0.081061</td>\n",
       "      <td>-0.886268</td>\n",
       "      <td>0.264855</td>\n",
       "      <td>0.966871</td>\n",
       "      <td>0.110277</td>\n",
       "      <td>0.042732</td>\n",
       "      <td>-0.102139</td>\n",
       "    </tr>\n",
       "    <tr>\n",
       "      <th>3</th>\n",
       "      <td>-1.236933</td>\n",
       "      <td>0.775596</td>\n",
       "      <td>0.520829</td>\n",
       "      <td>0.317725</td>\n",
       "      <td>0.200993</td>\n",
       "      <td>0.119562</td>\n",
       "      <td>0.097616</td>\n",
       "      <td>0.081061</td>\n",
       "      <td>0.787392</td>\n",
       "      <td>0.264855</td>\n",
       "      <td>-0.457725</td>\n",
       "      <td>0.301927</td>\n",
       "      <td>0.042732</td>\n",
       "      <td>1.277267</td>\n",
       "    </tr>\n",
       "    <tr>\n",
       "      <th>4</th>\n",
       "      <td>1.396401</td>\n",
       "      <td>0.034161</td>\n",
       "      <td>0.520829</td>\n",
       "      <td>0.317725</td>\n",
       "      <td>0.200993</td>\n",
       "      <td>0.119562</td>\n",
       "      <td>0.097616</td>\n",
       "      <td>0.081061</td>\n",
       "      <td>1.146033</td>\n",
       "      <td>0.264855</td>\n",
       "      <td>0.500639</td>\n",
       "      <td>-0.358203</td>\n",
       "      <td>-0.442840</td>\n",
       "      <td>-0.514071</td>\n",
       "    </tr>\n",
       "  </tbody>\n",
       "</table>\n",
       "</div>"
      ],
      "text/plain": [
       "         0         1         2         3         4         5         6   \\\n",
       "0  0.835199 -1.031652  0.464343 -1.023257  0.200993  0.119562  0.097616   \n",
       "1  1.396401 -0.799954  0.803255  0.496523  0.200993  0.119562  0.097616   \n",
       "2  0.835199  1.331672 -1.964525 -2.632436  0.200993  0.119562  0.097616   \n",
       "3 -1.236933  0.775596  0.520829  0.317725  0.200993  0.119562  0.097616   \n",
       "4  1.396401  0.034161  0.520829  0.317725  0.200993  0.119562  0.097616   \n",
       "\n",
       "         7         8         9         10        11        12        13  \n",
       "0  0.081061 -0.886268  0.264855  1.329495  1.179262  1.256662  0.167444  \n",
       "1  0.081061  1.146033  0.264855  0.966871 -0.690398  1.013876 -0.466201  \n",
       "2  0.081061 -0.886268  0.264855  0.966871  0.110277  0.042732 -0.102139  \n",
       "3  0.081061  0.787392  0.264855 -0.457725  0.301927  0.042732  1.277267  \n",
       "4  0.081061  1.146033  0.264855  0.500639 -0.358203 -0.442840 -0.514071  "
      ]
     },
     "execution_count": 74,
     "metadata": {},
     "output_type": "execute_result"
    }
   ],
   "source": [
    "df_test=pd.DataFrame(scaler.fit_transform(df_test))\n",
    "df_test.head()"
   ]
  },
  {
   "cell_type": "code",
   "execution_count": 60,
   "metadata": {},
   "outputs": [],
   "source": [
    "# Split data into train and test sets\n",
    "\n",
    "X_train, X_test, y_train, y_test = train_test_split(X,\n",
    "                                                    y,\n",
    "                                                    test_size=0.2,\n",
    "                                                    random_state=42)"
   ]
  },
  {
   "cell_type": "code",
   "execution_count": 61,
   "metadata": {},
   "outputs": [
    {
     "data": {
      "text/plain": [
       "((10040, 14), (2510, 14), (10040,), (2510,))"
      ]
     },
     "execution_count": 61,
     "metadata": {},
     "output_type": "execute_result"
    }
   ],
   "source": [
    "X_train.shape, X_test.shape, y_train.shape, y_test.shape"
   ]
  },
  {
   "cell_type": "code",
   "execution_count": 62,
   "metadata": {},
   "outputs": [],
   "source": [
    "# Put models in a dictionary\n",
    "models = {\"Linear Regression\": LinearRegression(),\n",
    "          \"KNN\": KNeighborsRegressor(),\n",
    "          \"Decision Tree\": DecisionTreeRegressor(),\n",
    "          \"Random Forest\": RandomForestRegressor(),\n",
    "          \"Lasso\":Lasso(),\n",
    "          \"Support Vector Regression\": SVR()\n",
    "          }\n",
    "\n",
    "# Create a function to fit and score models\n",
    "def fit_and_score(models, X_train, X_test, y_train, y_test):\n",
    "    # np.random.seed(42)\n",
    "    # Make a dictionary to keep model scores\n",
    "    model_scores = {}\n",
    "    # Loop through models\n",
    "    for name, model in models.items():\n",
    "        # Fit the model to the data\n",
    "        model.fit(X_train, y_train)\n",
    "        # Evaluate the model and append its score to model_scores\n",
    "        model_scores[name] = model.score(X_test, y_test)\n",
    "    return model_scores"
   ]
  },
  {
   "cell_type": "code",
   "execution_count": 63,
   "metadata": {},
   "outputs": [
    {
     "data": {
      "text/plain": [
       "{'Linear Regression': 0.2096917188222318,\n",
       " 'KNN': 0.3152801284777732,\n",
       " 'Decision Tree': 0.033928142146538165,\n",
       " 'Random Forest': 0.6828639039588567,\n",
       " 'Lasso': 0.20969612802408555,\n",
       " 'Support Vector Regression': 0.09185785806993252}"
      ]
     },
     "execution_count": 63,
     "metadata": {},
     "output_type": "execute_result"
    }
   ],
   "source": [
    "model_scores = fit_and_score(models=models,\n",
    "                             X_train=X_train,\n",
    "                             X_test=X_test,\n",
    "                             y_train=y_train,\n",
    "                             y_test=y_test)\n",
    "\n",
    "model_scores"
   ]
  },
  {
   "cell_type": "code",
   "execution_count": 64,
   "metadata": {},
   "outputs": [
    {
     "data": {
      "image/png": "[encoded data removed]",
      "text/plain": [
       "<Figure size 432x288 with 1 Axes>"
      ]
     },
     "metadata": {
      "needs_background": "light"
     },
     "output_type": "display_data"
    }
   ],
   "source": [
    "# Compare models\n",
    "model_compare = pd.DataFrame(model_scores, index=[\"accuracy\"])\n",
    "model_compare.T.plot.bar();"
   ]
  },
  {
   "cell_type": "code",
   "execution_count": 65,
   "metadata": {},
   "outputs": [
    {
     "name": "stdout",
     "output_type": "stream",
     "text": [
      "70.89927394076834\n"
     ]
    }
   ],
   "source": [
    "# Lets check GradientBoostingRegressor\n",
    "from sklearn.ensemble import GradientBoostingRegressor\n",
    "gbr = GradientBoostingRegressor()\n",
    "\n",
    "gbr.fit(X_train,y_train)\n",
    "\n",
    "y_pred=gbr.predict(X_test)\n",
    "\n",
    "gbrscore=gbr.score(X_test, y_test)\n",
    "print(gbrscore*100)"
   ]
  },
  {
   "cell_type": "markdown",
   "metadata": {},
   "source": [
    "#### Here RandomForestRegressor and GradientBoostingRegressor is giving maximum accuracy. We can further tune this model"
   ]
  },
  {
   "cell_type": "code",
   "execution_count": 66,
   "metadata": {},
   "outputs": [
    {
     "data": {
      "text/plain": [
       "{'n_estimators': 200}"
      ]
     },
     "execution_count": 66,
     "metadata": {},
     "output_type": "execute_result"
    }
   ],
   "source": [
    "rf=RandomForestRegressor()\n",
    "parameters={'n_estimators':(50,100,200,500)}\n",
    "gdrf=GridSearchCV(rf,parameters)\n",
    "gdrf.fit(X_train, y_train)\n",
    "gdrf.best_params_"
   ]
  },
  {
   "cell_type": "code",
   "execution_count": 67,
   "metadata": {},
   "outputs": [],
   "source": [
    "def get_max_r2_score(reg,x,y):\n",
    "    max_r2score=0\n",
    "    for r_state in range(42,101):\n",
    "        X_train, X_test, y_train, y_test = train_test_split(X,\n",
    "                                                    y,\n",
    "                                                    test_size=0.2,\n",
    "                                                    random_state=r_state)\n",
    "        reg.fit(X_train,y_train)\n",
    "        pred=reg.predict(X_test)\n",
    "        r2score=r2_score(y_test, pred)\n",
    "        if r2score > max_r2score:\n",
    "            max_r2score   = r2score\n",
    "            final_r_state = r_state\n",
    "    print(\"The maximum r2 score is: \", max_r2score, \" and achieved at random state\", final_r_state)"
   ]
  },
  {
   "cell_type": "code",
   "execution_count": 69,
   "metadata": {},
   "outputs": [
    {
     "name": "stdout",
     "output_type": "stream",
     "text": [
      "The maximum r2 score is:  0.7620292968147048  and achieved at random state 94\n"
     ]
    }
   ],
   "source": [
    "rf = RandomForestRegressor(n_estimators=200)\n",
    "get_max_r2_score(rf,X,y)"
   ]
  },
  {
   "cell_type": "code",
   "execution_count": 70,
   "metadata": {},
   "outputs": [
    {
     "name": "stdout",
     "output_type": "stream",
     "text": [
      "The accuracy score is 0.7645721400435382\n",
      "The cross val score is 0.7048632406540988\n"
     ]
    }
   ],
   "source": [
    "X_train, X_test, y_train, y_test = train_test_split(X,\n",
    "                                                    y,\n",
    "                                                    test_size=0.2,\n",
    "                                                    random_state=94)\n",
    "rf = RandomForestRegressor(n_estimators=200)\n",
    "rf.fit(X_train, y_train)\n",
    "pred = rf.predict(X_test)\n",
    "r2score = r2_score(y_test, pred)\n",
    "cv = cross_val_score(rf, X, y, cv=5, scoring='r2').mean()\n",
    "print(\"The accuracy score is\", r2score)\n",
    "print(\"The cross val score is\", cv)"
   ]
  },
  {
   "cell_type": "code",
   "execution_count": 71,
   "metadata": {},
   "outputs": [],
   "source": [
    "def analyse_model(model):    \n",
    "    model.fit(X_train,y_train)\n",
    "    pred = model.predict(X_test)\n",
    "    print(\"R2 model score: %.2f \" % model.score(X_test,y_test))\n",
    "    print(\"Mean squared error: %.2f \" % mean_squared_error(y_test,pred))\n",
    "    print(\"mean_absolute_error: %.2f \" % mean_absolute_error(y_test,pred))\n",
    "    print(\"explained_variance_score: %.2f \" % explained_variance_score(y_test,pred)) \n",
    "    print(\"cross_val_score: %.2f \" % cross_val_score(model, X_train, y_train,cv=5).mean())\n",
    "    print(\"R2_Score: %.2f \" % r2_score(y_test,pred))\n",
    "    print(pd.DataFrame({'Price':y_test,'Price Predicted':pred}).head(10))"
   ]
  },
  {
   "cell_type": "code",
   "execution_count": 72,
   "metadata": {},
   "outputs": [
    {
     "name": "stdout",
     "output_type": "stream",
     "text": [
      "R2 model score: 0.76 \n",
      "Mean squared error: 86748.81 \n",
      "mean_absolute_error: 185.80 \n",
      "explained_variance_score: 0.76 \n",
      "cross_val_score: 0.69 \n",
      "R2_Score: 0.76 \n",
      "       Price  Price Predicted\n",
      "4721     700           538.75\n",
      "4972     200           371.00\n",
      "9563     700           542.75\n",
      "1093     600           568.75\n",
      "12018   1500          1382.00\n",
      "3875    1200          1563.00\n",
      "5448     900           793.50\n",
      "476     1600          1744.00\n",
      "4961     200           283.00\n",
      "948      500           568.50\n"
     ]
    }
   ],
   "source": [
    "# Further tune with AdaBoostRegressor\n",
    "ada_rfregressor=AdaBoostRegressor()\n",
    "ada_rfregressor=AdaBoostRegressor(base_estimator=rf, learning_rate=0.1)\n",
    "ada_rfregressor.fit(X_train, y_train)\n",
    "ada_pred = ada_rfregressor.predict(X_test)\n",
    "analyse_model(ada_rfregressor)"
   ]
  },
  {
   "cell_type": "code",
   "execution_count": 73,
   "metadata": {},
   "outputs": [
    {
     "data": {
      "image/png": "[encoded data removed]",
      "text/plain": [
       "<Figure size 432x288 with 1 Axes>"
      ]
     },
     "metadata": {
      "needs_background": "light"
     },
     "output_type": "display_data"
    }
   ],
   "source": [
    "# Lets Visualize the Goodness of the Prediction\n",
    "fig, ax = plt.subplots()\n",
    "ax.scatter(y_test, ada_pred, edgecolors=(0, 0, 0))\n",
    "ax.plot([y_test.min(), y_test.max()], [y_test.min(), y_test.max()], 'k--', lw=4)\n",
    "ax.set_xlabel('Actual')\n",
    "ax.set_ylabel('Predicted')\n",
    "ax.set_title(\"Ground Truth vs Predicted\")\n",
    "plt.show()"
   ]
  },
  {
   "cell_type": "markdown",
   "metadata": {},
   "source": [
    "#### RandomForestRegressor is giving accuracy score 76 and a cross val score 70. We can finalise this model."
   ]
  },
  {
   "cell_type": "code",
   "execution_count": 75,
   "metadata": {},
   "outputs": [],
   "source": [
    "# Predicting the test data\n",
    "predtest = rf.predict(df_test)\n",
    "pd.DataFrame(predtest).to_csv(\"Restaurant_food_predictions.csv\")"
   ]
  },
  {
   "cell_type": "code",
   "execution_count": 76,
   "metadata": {},
   "outputs": [],
   "source": [
    "# Lets Save the model as pickle in a file\n",
    "import pickle\n",
    "filename = 'Restaurant_food_predictions.pkl'\n",
    "pickle.dump(rf, open(filename, 'wb'))"
   ]
  },
  {
   "cell_type": "code",
   "execution_count": null,
   "metadata": {},
   "outputs": [],
   "source": []
  }
 ],
 "metadata": {
  "kernelspec": {
   "display_name": "Python 3",
   "language": "python",
   "name": "python3"
  },
  "language_info": {
   "codemirror_mode": {
    "name": "ipython",
    "version": 3
   },
   "file_extension": ".py",
   "mimetype": "text/x-python",
   "name": "python",
   "nbconvert_exporter": "python",
   "pygments_lexer": "ipython3",
   "version": "3.7.3"
  }
 },
 "nbformat": 4,
 "nbformat_minor": 2
}
