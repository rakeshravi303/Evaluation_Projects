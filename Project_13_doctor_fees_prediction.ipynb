{
 "cells": [
  {
   "cell_type": "code",
   "execution_count": 1,
   "metadata": {},
   "outputs": [],
   "source": [
    "import numpy as np\n",
    "import pandas as pd\n",
    "import matplotlib.pyplot as plt\n",
    "import seaborn as sns\n",
    "\n",
    "from sklearn.linear_model import LinearRegression\n",
    "from sklearn.neighbors import KNeighborsRegressor\n",
    "from sklearn.linear_model import Lasso\n",
    "from sklearn.svm import SVR\n",
    "from sklearn.tree import DecisionTreeRegressor\n",
    "from sklearn.ensemble import RandomForestRegressor\n",
    "from sklearn.ensemble import GradientBoostingRegressor\n",
    "from sklearn.ensemble import AdaBoostRegressor\n",
    "\n",
    "from sklearn.model_selection import GridSearchCV\n",
    "from sklearn.model_selection import RandomizedSearchCV\n",
    "\n",
    "from sklearn.metrics import mean_squared_error,mean_absolute_error, explained_variance_score, r2_score\n",
    "from sklearn.model_selection import train_test_split, cross_val_predict, cross_val_score\n",
    "from sklearn.metrics import confusion_matrix,classification_report\n",
    "from sklearn.metrics import accuracy_score\n",
    "import warnings\n",
    "# warnings.filterwarnings('ignore')"
   ]
  },
  {
   "cell_type": "code",
   "execution_count": 2,
   "metadata": {},
   "outputs": [
    {
     "data": {
      "text/html": [
       "<div>\n",
       "<style scoped>\n",
       "    .dataframe tbody tr th:only-of-type {\n",
       "        vertical-align: middle;\n",
       "    }\n",
       "\n",
       "    .dataframe tbody tr th {\n",
       "        vertical-align: top;\n",
       "    }\n",
       "\n",
       "    .dataframe thead th {\n",
       "        text-align: right;\n",
       "    }\n",
       "</style>\n",
       "<table border=\"1\" class=\"dataframe\">\n",
       "  <thead>\n",
       "    <tr style=\"text-align: right;\">\n",
       "      <th></th>\n",
       "      <th>Qualification</th>\n",
       "      <th>Experience</th>\n",
       "      <th>Rating</th>\n",
       "      <th>Place</th>\n",
       "      <th>Profile</th>\n",
       "      <th>Miscellaneous_Info</th>\n",
       "      <th>Fees</th>\n",
       "    </tr>\n",
       "  </thead>\n",
       "  <tbody>\n",
       "    <tr>\n",
       "      <th>0</th>\n",
       "      <td>BHMS, MD - Homeopathy</td>\n",
       "      <td>24 years experience</td>\n",
       "      <td>100%</td>\n",
       "      <td>Kakkanad, Ernakulam</td>\n",
       "      <td>Homeopath</td>\n",
       "      <td>100% 16 Feedback Kakkanad, Ernakulam</td>\n",
       "      <td>100</td>\n",
       "    </tr>\n",
       "    <tr>\n",
       "      <th>1</th>\n",
       "      <td>BAMS, MD - Ayurveda Medicine</td>\n",
       "      <td>12 years experience</td>\n",
       "      <td>98%</td>\n",
       "      <td>Whitefield, Bangalore</td>\n",
       "      <td>Ayurveda</td>\n",
       "      <td>98% 76 Feedback Whitefield, Bangalore</td>\n",
       "      <td>350</td>\n",
       "    </tr>\n",
       "    <tr>\n",
       "      <th>2</th>\n",
       "      <td>MBBS, MS - Otorhinolaryngology</td>\n",
       "      <td>9 years experience</td>\n",
       "      <td>NaN</td>\n",
       "      <td>Mathikere - BEL, Bangalore</td>\n",
       "      <td>ENT Specialist</td>\n",
       "      <td>NaN</td>\n",
       "      <td>300</td>\n",
       "    </tr>\n",
       "    <tr>\n",
       "      <th>3</th>\n",
       "      <td>BSc - Zoology, BAMS</td>\n",
       "      <td>12 years experience</td>\n",
       "      <td>NaN</td>\n",
       "      <td>Bannerghatta Road, Bangalore</td>\n",
       "      <td>Ayurveda</td>\n",
       "      <td>Bannerghatta Road, Bangalore ₹250 Available on...</td>\n",
       "      <td>250</td>\n",
       "    </tr>\n",
       "    <tr>\n",
       "      <th>4</th>\n",
       "      <td>BAMS</td>\n",
       "      <td>20 years experience</td>\n",
       "      <td>100%</td>\n",
       "      <td>Keelkattalai, Chennai</td>\n",
       "      <td>Ayurveda</td>\n",
       "      <td>100% 4 Feedback Keelkattalai, Chennai</td>\n",
       "      <td>250</td>\n",
       "    </tr>\n",
       "  </tbody>\n",
       "</table>\n",
       "</div>"
      ],
      "text/plain": [
       "                    Qualification           Experience Rating  \\\n",
       "0           BHMS, MD - Homeopathy  24 years experience   100%   \n",
       "1    BAMS, MD - Ayurveda Medicine  12 years experience    98%   \n",
       "2  MBBS, MS - Otorhinolaryngology   9 years experience    NaN   \n",
       "3             BSc - Zoology, BAMS  12 years experience    NaN   \n",
       "4                            BAMS  20 years experience   100%   \n",
       "\n",
       "                          Place         Profile  \\\n",
       "0           Kakkanad, Ernakulam       Homeopath   \n",
       "1         Whitefield, Bangalore        Ayurveda   \n",
       "2    Mathikere - BEL, Bangalore  ENT Specialist   \n",
       "3  Bannerghatta Road, Bangalore        Ayurveda   \n",
       "4         Keelkattalai, Chennai        Ayurveda   \n",
       "\n",
       "                                  Miscellaneous_Info  Fees  \n",
       "0               100% 16 Feedback Kakkanad, Ernakulam   100  \n",
       "1              98% 76 Feedback Whitefield, Bangalore   350  \n",
       "2                                                NaN   300  \n",
       "3  Bannerghatta Road, Bangalore ₹250 Available on...   250  \n",
       "4              100% 4 Feedback Keelkattalai, Chennai   250  "
      ]
     },
     "execution_count": 2,
     "metadata": {},
     "output_type": "execute_result"
    }
   ],
   "source": [
    "# Load train dataset\n",
    "df_train=pd.read_excel('./Final Participant Data Folder/Final_Train.xlsx')\n",
    "df_train.head()"
   ]
  },
  {
   "cell_type": "code",
   "execution_count": 3,
   "metadata": {},
   "outputs": [
    {
     "data": {
      "text/html": [
       "<div>\n",
       "<style scoped>\n",
       "    .dataframe tbody tr th:only-of-type {\n",
       "        vertical-align: middle;\n",
       "    }\n",
       "\n",
       "    .dataframe tbody tr th {\n",
       "        vertical-align: top;\n",
       "    }\n",
       "\n",
       "    .dataframe thead th {\n",
       "        text-align: right;\n",
       "    }\n",
       "</style>\n",
       "<table border=\"1\" class=\"dataframe\">\n",
       "  <thead>\n",
       "    <tr style=\"text-align: right;\">\n",
       "      <th></th>\n",
       "      <th>Qualification</th>\n",
       "      <th>Experience</th>\n",
       "      <th>Rating</th>\n",
       "      <th>Place</th>\n",
       "      <th>Profile</th>\n",
       "      <th>Miscellaneous_Info</th>\n",
       "    </tr>\n",
       "  </thead>\n",
       "  <tbody>\n",
       "    <tr>\n",
       "      <th>0</th>\n",
       "      <td>MBBS</td>\n",
       "      <td>35 years experience</td>\n",
       "      <td>NaN</td>\n",
       "      <td>Ghatkopar East, Mumbai</td>\n",
       "      <td>General Medicine</td>\n",
       "      <td>NaN</td>\n",
       "    </tr>\n",
       "    <tr>\n",
       "      <th>1</th>\n",
       "      <td>MBBS, Diploma in Otorhinolaryngology (DLO)</td>\n",
       "      <td>31 years experience</td>\n",
       "      <td>NaN</td>\n",
       "      <td>West Marredpally, Hyderabad</td>\n",
       "      <td>ENT Specialist</td>\n",
       "      <td>NaN</td>\n",
       "    </tr>\n",
       "    <tr>\n",
       "      <th>2</th>\n",
       "      <td>MBBS, DDVL</td>\n",
       "      <td>40 years experience</td>\n",
       "      <td>70%</td>\n",
       "      <td>KK Nagar, Chennai</td>\n",
       "      <td>Dermatologists</td>\n",
       "      <td>70% 4 Feedback KK Nagar, Chennai</td>\n",
       "    </tr>\n",
       "    <tr>\n",
       "      <th>3</th>\n",
       "      <td>BAMS</td>\n",
       "      <td>0 years experience</td>\n",
       "      <td>NaN</td>\n",
       "      <td>New Ashok Nagar, Delhi</td>\n",
       "      <td>Ayurveda</td>\n",
       "      <td>NaN</td>\n",
       "    </tr>\n",
       "    <tr>\n",
       "      <th>4</th>\n",
       "      <td>BDS, MDS - Conservative Dentistry &amp; Endodontics</td>\n",
       "      <td>16 years experience</td>\n",
       "      <td>100%</td>\n",
       "      <td>Kanakpura Road, Bangalore</td>\n",
       "      <td>Dentist</td>\n",
       "      <td>General Dentistry Conservative Dentistry Cosme...</td>\n",
       "    </tr>\n",
       "  </tbody>\n",
       "</table>\n",
       "</div>"
      ],
      "text/plain": [
       "                                     Qualification           Experience  \\\n",
       "0                                             MBBS  35 years experience   \n",
       "1       MBBS, Diploma in Otorhinolaryngology (DLO)  31 years experience   \n",
       "2                                       MBBS, DDVL  40 years experience   \n",
       "3                                             BAMS   0 years experience   \n",
       "4  BDS, MDS - Conservative Dentistry & Endodontics  16 years experience   \n",
       "\n",
       "  Rating                        Place           Profile  \\\n",
       "0    NaN       Ghatkopar East, Mumbai  General Medicine   \n",
       "1    NaN  West Marredpally, Hyderabad    ENT Specialist   \n",
       "2    70%            KK Nagar, Chennai    Dermatologists   \n",
       "3    NaN       New Ashok Nagar, Delhi          Ayurveda   \n",
       "4   100%    Kanakpura Road, Bangalore           Dentist   \n",
       "\n",
       "                                  Miscellaneous_Info  \n",
       "0                                                NaN  \n",
       "1                                                NaN  \n",
       "2                   70% 4 Feedback KK Nagar, Chennai  \n",
       "3                                                NaN  \n",
       "4  General Dentistry Conservative Dentistry Cosme...  "
      ]
     },
     "execution_count": 3,
     "metadata": {},
     "output_type": "execute_result"
    }
   ],
   "source": [
    "# Load test dataset\n",
    "df_test=pd.read_excel('./Final Participant Data Folder/Final_Test.xlsx')\n",
    "df_test.head()"
   ]
  },
  {
   "cell_type": "code",
   "execution_count": 4,
   "metadata": {},
   "outputs": [
    {
     "data": {
      "text/plain": [
       "((5961, 7), (1987, 6))"
      ]
     },
     "execution_count": 4,
     "metadata": {},
     "output_type": "execute_result"
    }
   ],
   "source": [
    "df_train.shape, df_test.shape"
   ]
  },
  {
   "cell_type": "markdown",
   "metadata": {},
   "source": [
    "### EDA"
   ]
  },
  {
   "cell_type": "code",
   "execution_count": 5,
   "metadata": {},
   "outputs": [
    {
     "name": "stdout",
     "output_type": "stream",
     "text": [
      "<class 'pandas.core.frame.DataFrame'>\n",
      "RangeIndex: 5961 entries, 0 to 5960\n",
      "Data columns (total 7 columns):\n",
      "Qualification         5961 non-null object\n",
      "Experience            5961 non-null object\n",
      "Rating                2659 non-null object\n",
      "Place                 5936 non-null object\n",
      "Profile               5961 non-null object\n",
      "Miscellaneous_Info    3341 non-null object\n",
      "Fees                  5961 non-null int64\n",
      "dtypes: int64(1), object(6)\n",
      "memory usage: 326.1+ KB\n"
     ]
    }
   ],
   "source": [
    "df_train.info()"
   ]
  },
  {
   "cell_type": "code",
   "execution_count": 6,
   "metadata": {},
   "outputs": [
    {
     "name": "stdout",
     "output_type": "stream",
     "text": [
      "<class 'pandas.core.frame.DataFrame'>\n",
      "RangeIndex: 1987 entries, 0 to 1986\n",
      "Data columns (total 6 columns):\n",
      "Qualification         1987 non-null object\n",
      "Experience            1987 non-null object\n",
      "Rating                897 non-null object\n",
      "Place                 1981 non-null object\n",
      "Profile               1987 non-null object\n",
      "Miscellaneous_Info    1153 non-null object\n",
      "dtypes: object(6)\n",
      "memory usage: 93.2+ KB\n"
     ]
    }
   ],
   "source": [
    "df_test.info()"
   ]
  },
  {
   "cell_type": "code",
   "execution_count": 7,
   "metadata": {},
   "outputs": [
    {
     "data": {
      "text/plain": [
       "40"
      ]
     },
     "execution_count": 7,
     "metadata": {},
     "output_type": "execute_result"
    }
   ],
   "source": [
    "# Identify the duplicate records\n",
    "df_train.duplicated().sum()"
   ]
  },
  {
   "cell_type": "code",
   "execution_count": 8,
   "metadata": {},
   "outputs": [
    {
     "data": {
      "text/plain": [
       "11"
      ]
     },
     "execution_count": 8,
     "metadata": {},
     "output_type": "execute_result"
    }
   ],
   "source": [
    "# Identify the duplicate records\n",
    "df_test.duplicated().sum()"
   ]
  },
  {
   "cell_type": "code",
   "execution_count": 9,
   "metadata": {},
   "outputs": [],
   "source": [
    "# Reomove duplicates\n",
    "df_train = df_train.drop_duplicates()\n",
    "df_test = df_test.drop_duplicates()"
   ]
  },
  {
   "cell_type": "code",
   "execution_count": 10,
   "metadata": {},
   "outputs": [
    {
     "name": "stdout",
     "output_type": "stream",
     "text": [
      "0\n",
      "0\n"
     ]
    }
   ],
   "source": [
    "print(df_train.duplicated().sum())\n",
    "print(df_test.duplicated().sum())"
   ]
  },
  {
   "cell_type": "code",
   "execution_count": 11,
   "metadata": {},
   "outputs": [
    {
     "data": {
      "text/plain": [
       "((5921, 7), (1976, 6))"
      ]
     },
     "execution_count": 11,
     "metadata": {},
     "output_type": "execute_result"
    }
   ],
   "source": [
    "df_train.shape, df_test.shape"
   ]
  },
  {
   "cell_type": "code",
   "execution_count": 12,
   "metadata": {},
   "outputs": [
    {
     "data": {
      "text/plain": [
       "(Qualification            0\n",
       " Experience               0\n",
       " Rating                3262\n",
       " Place                    2\n",
       " Profile                  0\n",
       " Miscellaneous_Info    2581\n",
       " Fees                     0\n",
       " dtype: int64, Qualification            0\n",
       " Experience               0\n",
       " Rating                1079\n",
       " Place                    1\n",
       " Profile                  0\n",
       " Miscellaneous_Info     823\n",
       " dtype: int64)"
      ]
     },
     "execution_count": 12,
     "metadata": {},
     "output_type": "execute_result"
    }
   ],
   "source": [
    "df_train.isna().sum(), df_test.isna().sum()"
   ]
  },
  {
   "cell_type": "code",
   "execution_count": 13,
   "metadata": {},
   "outputs": [
    {
     "data": {
      "text/plain": [
       "array(['100% 16 Feedback Kakkanad, Ernakulam',\n",
       "       '98% 76 Feedback Whitefield, Bangalore', nan, ...,\n",
       "       '98% 45 Feedback Basavanagudi, Bangalore',\n",
       "       '97% 11 Feedback Greater Kailash Part 2, Delhi',\n",
       "       'General Medical Consultation Viral Fever Treatment Infectious Disease Treatment'],\n",
       "      dtype=object)"
      ]
     },
     "execution_count": 13,
     "metadata": {},
     "output_type": "execute_result"
    }
   ],
   "source": [
    "df_train.Miscellaneous_Info.unique()    "
   ]
  },
  {
   "cell_type": "code",
   "execution_count": 14,
   "metadata": {},
   "outputs": [],
   "source": [
    "# We can drop Miscellaneous_Info since it is not uniform and has many null data \n",
    "df_train.drop(['Miscellaneous_Info'],inplace=True, axis=1)\n",
    "df_test.drop(['Miscellaneous_Info'],inplace=True, axis=1)"
   ]
  },
  {
   "cell_type": "code",
   "execution_count": 15,
   "metadata": {},
   "outputs": [
    {
     "data": {
      "text/plain": [
       "array(['100%', '98%', nan, '99%', '79%', '95%', '97%', '94%', '88%',\n",
       "       '90%', '80%', '93%', '36%', '78%', '87%', '96%', '82%', '89%',\n",
       "       '74%', '86%', '92%', '83%', '76%', '85%', '56%', '91%', '68%',\n",
       "       '60%', '75%', '69%', '73%', '67%', '77%', '33%', '55%', '71%',\n",
       "       '84%', '45%', '63%', '72%', '81%', '62%', '57%', '7%', '48%',\n",
       "       '40%', '70%', '64%', '65%', '47%', '58%', '53%'], dtype=object)"
      ]
     },
     "execution_count": 15,
     "metadata": {},
     "output_type": "execute_result"
    }
   ],
   "source": [
    "df_train.Rating.unique() "
   ]
  },
  {
   "cell_type": "code",
   "execution_count": 16,
   "metadata": {},
   "outputs": [],
   "source": [
    "# Strip % and convert Rating to float for train dataset\n",
    "df_train['Rating']=df_train['Rating'].str.replace(\"%\",\"\")\n",
    "df_train['Rating']=df_train['Rating'].astype(float)"
   ]
  },
  {
   "cell_type": "code",
   "execution_count": 17,
   "metadata": {},
   "outputs": [
    {
     "data": {
      "text/plain": [
       "array([100.        ,  98.        ,  94.64347499,  99.        ,\n",
       "        79.        ,  95.        ,  97.        ,  94.        ,\n",
       "        88.        ,  90.        ,  80.        ,  93.        ,\n",
       "        36.        ,  78.        ,  87.        ,  96.        ,\n",
       "        82.        ,  89.        ,  74.        ,  86.        ,\n",
       "        92.        ,  83.        ,  76.        ,  85.        ,\n",
       "        56.        ,  91.        ,  68.        ,  60.        ,\n",
       "        75.        ,  69.        ,  73.        ,  67.        ,\n",
       "        77.        ,  33.        ,  55.        ,  71.        ,\n",
       "        84.        ,  45.        ,  63.        ,  72.        ,\n",
       "        81.        ,  62.        ,  57.        ,   7.        ,\n",
       "        48.        ,  40.        ,  70.        ,  64.        ,\n",
       "        65.        ,  47.        ,  58.        ,  53.        ])"
      ]
     },
     "execution_count": 17,
     "metadata": {},
     "output_type": "execute_result"
    }
   ],
   "source": [
    "df_train['Rating']=df_train['Rating'].fillna(df_train['Rating'].mean())\n",
    "df_train.Rating.unique()"
   ]
  },
  {
   "cell_type": "code",
   "execution_count": 18,
   "metadata": {},
   "outputs": [],
   "source": [
    "# Strip % and convert Rating to float for test dataset\n",
    "df_test['Rating']=df_test['Rating'].str.replace(\"%\",\"\")\n",
    "df_test['Rating']=df_test['Rating'].astype(float)\n",
    "df_test['Rating']=df_test['Rating'].fillna(df_test['Rating'].mean())"
   ]
  },
  {
   "cell_type": "code",
   "execution_count": 19,
   "metadata": {},
   "outputs": [
    {
     "data": {
      "text/plain": [
       "(Qualification    0\n",
       " Experience       0\n",
       " Rating           0\n",
       " Place            2\n",
       " Profile          0\n",
       " Fees             0\n",
       " dtype: int64, Qualification    0\n",
       " Experience       0\n",
       " Rating           0\n",
       " Place            1\n",
       " Profile          0\n",
       " dtype: int64)"
      ]
     },
     "execution_count": 19,
     "metadata": {},
     "output_type": "execute_result"
    }
   ],
   "source": [
    "df_train.isna().sum(), df_test.isna().sum()"
   ]
  },
  {
   "cell_type": "code",
   "execution_count": 20,
   "metadata": {},
   "outputs": [
    {
     "data": {
      "text/plain": [
       "(Qualification    0\n",
       " Experience       0\n",
       " Rating           0\n",
       " Place            0\n",
       " Profile          0\n",
       " Fees             0\n",
       " dtype: int64, Qualification    0\n",
       " Experience       0\n",
       " Rating           0\n",
       " Place            0\n",
       " Profile          0\n",
       " dtype: int64)"
      ]
     },
     "execution_count": 20,
     "metadata": {},
     "output_type": "execute_result"
    }
   ],
   "source": [
    "# Place has small number of record as null and so we can drop these null records\n",
    "df_train = df_train.dropna(axis = 0)\n",
    "df_test = df_test.dropna(axis = 0)\n",
    "df_train.isna().sum(), df_test.isna().sum()"
   ]
  },
  {
   "cell_type": "code",
   "execution_count": 21,
   "metadata": {},
   "outputs": [
    {
     "data": {
      "text/plain": [
       "array(['24 years experience', '12 years experience', '9 years experience',\n",
       "       '20 years experience', '8 years experience', '42 years experience',\n",
       "       '10 years experience', '14 years experience',\n",
       "       '23 years experience', '5 years experience', '7 years experience',\n",
       "       '21 years experience', '19 years experience',\n",
       "       '41 years experience', '31 years experience',\n",
       "       '25 years experience', '16 years experience',\n",
       "       '15 years experience', '11 years experience',\n",
       "       '22 years experience', '38 years experience', '6 years experience',\n",
       "       '36 years experience', '13 years experience',\n",
       "       '18 years experience', '46 years experience',\n",
       "       '40 years experience', '49 years experience',\n",
       "       '33 years experience', '27 years experience',\n",
       "       '30 years experience', '52 years experience',\n",
       "       '60 years experience', '26 years experience',\n",
       "       '35 years experience', '34 years experience',\n",
       "       '39 years experience', '32 years experience',\n",
       "       '17 years experience', '0 years experience', '28 years experience',\n",
       "       '58 years experience', '4 years experience', '45 years experience',\n",
       "       '44 years experience', '3 years experience', '37 years experience',\n",
       "       '50 years experience', '29 years experience',\n",
       "       '43 years experience', '54 years experience',\n",
       "       '66 years experience', '2 years experience', '51 years experience',\n",
       "       '47 years experience', '48 years experience',\n",
       "       '53 years experience', '56 years experience',\n",
       "       '61 years experience', '59 years experience',\n",
       "       '57 years experience', '55 years experience',\n",
       "       '65 years experience', '64 years experience'], dtype=object)"
      ]
     },
     "execution_count": 21,
     "metadata": {},
     "output_type": "execute_result"
    }
   ],
   "source": [
    "df_train.Experience.unique() "
   ]
  },
  {
   "cell_type": "code",
   "execution_count": 22,
   "metadata": {},
   "outputs": [],
   "source": [
    "# Convert years of experience to int for train dataset\n",
    "exp = df_train[\"Experience\"].str.split(\" \")\n",
    "df_train[\"Experience\"] = exp.str[0].astype(\"int\")"
   ]
  },
  {
   "cell_type": "code",
   "execution_count": 23,
   "metadata": {},
   "outputs": [],
   "source": [
    "# Convert years of experience to int for train dataset\n",
    "exp = df_test[\"Experience\"].str.split(\" \")\n",
    "df_test[\"Experience\"] = exp.str[0].astype(\"int\")"
   ]
  },
  {
   "cell_type": "code",
   "execution_count": 24,
   "metadata": {},
   "outputs": [
    {
     "data": {
      "text/plain": [
       "array(['BHMS, MD - Homeopathy', 'BAMS, MD - Ayurveda Medicine',\n",
       "       'MBBS, MS - Otorhinolaryngology', ...,\n",
       "       'MD - Dermatology , Venereology & Leprosy, MBBS, Fellowship In Dermatosurgery',\n",
       "       'BDS, certification in smile designing',\n",
       "       'MD - Homeopathy, Post Graduate Diploma in Healthcare Management(PGDHM), DHMS (Diploma in Homeopathic Medicine and Surgery)'],\n",
       "      dtype=object)"
      ]
     },
     "execution_count": 24,
     "metadata": {},
     "output_type": "execute_result"
    }
   ],
   "source": [
    "df_train.Qualification.unique()"
   ]
  },
  {
   "cell_type": "code",
   "execution_count": 25,
   "metadata": {},
   "outputs": [
    {
     "data": {
      "text/html": [
       "<div>\n",
       "<style scoped>\n",
       "    .dataframe tbody tr th:only-of-type {\n",
       "        vertical-align: middle;\n",
       "    }\n",
       "\n",
       "    .dataframe tbody tr th {\n",
       "        vertical-align: top;\n",
       "    }\n",
       "\n",
       "    .dataframe thead th {\n",
       "        text-align: right;\n",
       "    }\n",
       "</style>\n",
       "<table border=\"1\" class=\"dataframe\">\n",
       "  <thead>\n",
       "    <tr style=\"text-align: right;\">\n",
       "      <th></th>\n",
       "      <th>Q1</th>\n",
       "      <th>Q2</th>\n",
       "      <th>Q3</th>\n",
       "      <th>Q4</th>\n",
       "      <th>Q5</th>\n",
       "      <th>Q6</th>\n",
       "      <th>Q7</th>\n",
       "      <th>Q8</th>\n",
       "      <th>Q9</th>\n",
       "      <th>Experience</th>\n",
       "      <th>Rating</th>\n",
       "      <th>Place</th>\n",
       "      <th>Profile</th>\n",
       "      <th>Fees</th>\n",
       "    </tr>\n",
       "  </thead>\n",
       "  <tbody>\n",
       "    <tr>\n",
       "      <th>0</th>\n",
       "      <td>BHMS</td>\n",
       "      <td>MD - Homeopathy</td>\n",
       "      <td>NA</td>\n",
       "      <td>NA</td>\n",
       "      <td>NA</td>\n",
       "      <td>NA</td>\n",
       "      <td>NA</td>\n",
       "      <td>NA</td>\n",
       "      <td>NA</td>\n",
       "      <td>24</td>\n",
       "      <td>100.000000</td>\n",
       "      <td>Kakkanad, Ernakulam</td>\n",
       "      <td>Homeopath</td>\n",
       "      <td>100</td>\n",
       "    </tr>\n",
       "    <tr>\n",
       "      <th>1</th>\n",
       "      <td>BAMS</td>\n",
       "      <td>MD - Ayurveda Medicine</td>\n",
       "      <td>NA</td>\n",
       "      <td>NA</td>\n",
       "      <td>NA</td>\n",
       "      <td>NA</td>\n",
       "      <td>NA</td>\n",
       "      <td>NA</td>\n",
       "      <td>NA</td>\n",
       "      <td>12</td>\n",
       "      <td>98.000000</td>\n",
       "      <td>Whitefield, Bangalore</td>\n",
       "      <td>Ayurveda</td>\n",
       "      <td>350</td>\n",
       "    </tr>\n",
       "    <tr>\n",
       "      <th>2</th>\n",
       "      <td>MBBS</td>\n",
       "      <td>MS - Otorhinolaryngology</td>\n",
       "      <td>NA</td>\n",
       "      <td>NA</td>\n",
       "      <td>NA</td>\n",
       "      <td>NA</td>\n",
       "      <td>NA</td>\n",
       "      <td>NA</td>\n",
       "      <td>NA</td>\n",
       "      <td>9</td>\n",
       "      <td>94.643475</td>\n",
       "      <td>Mathikere - BEL, Bangalore</td>\n",
       "      <td>ENT Specialist</td>\n",
       "      <td>300</td>\n",
       "    </tr>\n",
       "    <tr>\n",
       "      <th>3</th>\n",
       "      <td>BSc - Zoology</td>\n",
       "      <td>BAMS</td>\n",
       "      <td>NA</td>\n",
       "      <td>NA</td>\n",
       "      <td>NA</td>\n",
       "      <td>NA</td>\n",
       "      <td>NA</td>\n",
       "      <td>NA</td>\n",
       "      <td>NA</td>\n",
       "      <td>12</td>\n",
       "      <td>94.643475</td>\n",
       "      <td>Bannerghatta Road, Bangalore</td>\n",
       "      <td>Ayurveda</td>\n",
       "      <td>250</td>\n",
       "    </tr>\n",
       "    <tr>\n",
       "      <th>4</th>\n",
       "      <td>BAMS</td>\n",
       "      <td>NA</td>\n",
       "      <td>NA</td>\n",
       "      <td>NA</td>\n",
       "      <td>NA</td>\n",
       "      <td>NA</td>\n",
       "      <td>NA</td>\n",
       "      <td>NA</td>\n",
       "      <td>NA</td>\n",
       "      <td>20</td>\n",
       "      <td>100.000000</td>\n",
       "      <td>Keelkattalai, Chennai</td>\n",
       "      <td>Ayurveda</td>\n",
       "      <td>250</td>\n",
       "    </tr>\n",
       "  </tbody>\n",
       "</table>\n",
       "</div>"
      ],
      "text/plain": [
       "              Q1                         Q2  Q3  Q4  Q5  Q6  Q7  Q8  Q9  \\\n",
       "0           BHMS            MD - Homeopathy  NA  NA  NA  NA  NA  NA  NA   \n",
       "1           BAMS     MD - Ayurveda Medicine  NA  NA  NA  NA  NA  NA  NA   \n",
       "2           MBBS   MS - Otorhinolaryngology  NA  NA  NA  NA  NA  NA  NA   \n",
       "3  BSc - Zoology                       BAMS  NA  NA  NA  NA  NA  NA  NA   \n",
       "4           BAMS                         NA  NA  NA  NA  NA  NA  NA  NA   \n",
       "\n",
       "   Experience      Rating                         Place         Profile  Fees  \n",
       "0          24  100.000000           Kakkanad, Ernakulam       Homeopath   100  \n",
       "1          12   98.000000         Whitefield, Bangalore        Ayurveda   350  \n",
       "2           9   94.643475    Mathikere - BEL, Bangalore  ENT Specialist   300  \n",
       "3          12   94.643475  Bannerghatta Road, Bangalore        Ayurveda   250  \n",
       "4          20  100.000000         Keelkattalai, Chennai        Ayurveda   250  "
      ]
     },
     "execution_count": 25,
     "metadata": {},
     "output_type": "execute_result"
    }
   ],
   "source": [
    "# We can see lot of qualifications, we can splt these qualifications for train\n",
    "qlfn = df_train[\"Qualification\"].str.split(\",\", n = 8, expand = True)\n",
    "qlfn = qlfn.fillna('NA')\n",
    "df_train = pd.concat([qlfn, df_train], axis=1)\n",
    "df_train = df_train.drop(['Qualification'], axis=1)\n",
    "df_train.rename(columns={0: 'Q1', 1: 'Q2', 2:'Q3', 3:'Q4', 4:'Q5', 5:'Q6', 6:'Q7', 7:'Q8', 8:'Q9'}, inplace=True)\n",
    "df_train.head()"
   ]
  },
  {
   "cell_type": "code",
   "execution_count": 26,
   "metadata": {},
   "outputs": [
    {
     "data": {
      "text/html": [
       "<div>\n",
       "<style scoped>\n",
       "    .dataframe tbody tr th:only-of-type {\n",
       "        vertical-align: middle;\n",
       "    }\n",
       "\n",
       "    .dataframe tbody tr th {\n",
       "        vertical-align: top;\n",
       "    }\n",
       "\n",
       "    .dataframe thead th {\n",
       "        text-align: right;\n",
       "    }\n",
       "</style>\n",
       "<table border=\"1\" class=\"dataframe\">\n",
       "  <thead>\n",
       "    <tr style=\"text-align: right;\">\n",
       "      <th></th>\n",
       "      <th>Q1</th>\n",
       "      <th>Q2</th>\n",
       "      <th>Q3</th>\n",
       "      <th>Q4</th>\n",
       "      <th>Q5</th>\n",
       "      <th>Q6</th>\n",
       "      <th>Q7</th>\n",
       "      <th>Q8</th>\n",
       "      <th>Q9</th>\n",
       "      <th>Experience</th>\n",
       "      <th>Rating</th>\n",
       "      <th>Place</th>\n",
       "      <th>Profile</th>\n",
       "    </tr>\n",
       "  </thead>\n",
       "  <tbody>\n",
       "    <tr>\n",
       "      <th>0</th>\n",
       "      <td>MBBS</td>\n",
       "      <td>NA</td>\n",
       "      <td>NA</td>\n",
       "      <td>NA</td>\n",
       "      <td>NA</td>\n",
       "      <td>NA</td>\n",
       "      <td>NA</td>\n",
       "      <td>NA</td>\n",
       "      <td>NA</td>\n",
       "      <td>35</td>\n",
       "      <td>94.441472</td>\n",
       "      <td>Ghatkopar East, Mumbai</td>\n",
       "      <td>General Medicine</td>\n",
       "    </tr>\n",
       "    <tr>\n",
       "      <th>1</th>\n",
       "      <td>MBBS</td>\n",
       "      <td>Diploma in Otorhinolaryngology (DLO)</td>\n",
       "      <td>NA</td>\n",
       "      <td>NA</td>\n",
       "      <td>NA</td>\n",
       "      <td>NA</td>\n",
       "      <td>NA</td>\n",
       "      <td>NA</td>\n",
       "      <td>NA</td>\n",
       "      <td>31</td>\n",
       "      <td>94.441472</td>\n",
       "      <td>West Marredpally, Hyderabad</td>\n",
       "      <td>ENT Specialist</td>\n",
       "    </tr>\n",
       "    <tr>\n",
       "      <th>2</th>\n",
       "      <td>MBBS</td>\n",
       "      <td>DDVL</td>\n",
       "      <td>NA</td>\n",
       "      <td>NA</td>\n",
       "      <td>NA</td>\n",
       "      <td>NA</td>\n",
       "      <td>NA</td>\n",
       "      <td>NA</td>\n",
       "      <td>NA</td>\n",
       "      <td>40</td>\n",
       "      <td>70.000000</td>\n",
       "      <td>KK Nagar, Chennai</td>\n",
       "      <td>Dermatologists</td>\n",
       "    </tr>\n",
       "    <tr>\n",
       "      <th>3</th>\n",
       "      <td>BAMS</td>\n",
       "      <td>NA</td>\n",
       "      <td>NA</td>\n",
       "      <td>NA</td>\n",
       "      <td>NA</td>\n",
       "      <td>NA</td>\n",
       "      <td>NA</td>\n",
       "      <td>NA</td>\n",
       "      <td>NA</td>\n",
       "      <td>0</td>\n",
       "      <td>94.441472</td>\n",
       "      <td>New Ashok Nagar, Delhi</td>\n",
       "      <td>Ayurveda</td>\n",
       "    </tr>\n",
       "    <tr>\n",
       "      <th>4</th>\n",
       "      <td>BDS</td>\n",
       "      <td>MDS - Conservative Dentistry &amp; Endodontics</td>\n",
       "      <td>NA</td>\n",
       "      <td>NA</td>\n",
       "      <td>NA</td>\n",
       "      <td>NA</td>\n",
       "      <td>NA</td>\n",
       "      <td>NA</td>\n",
       "      <td>NA</td>\n",
       "      <td>16</td>\n",
       "      <td>100.000000</td>\n",
       "      <td>Kanakpura Road, Bangalore</td>\n",
       "      <td>Dentist</td>\n",
       "    </tr>\n",
       "  </tbody>\n",
       "</table>\n",
       "</div>"
      ],
      "text/plain": [
       "     Q1                                           Q2  Q3  Q4  Q5  Q6  Q7  Q8  \\\n",
       "0  MBBS                                           NA  NA  NA  NA  NA  NA  NA   \n",
       "1  MBBS         Diploma in Otorhinolaryngology (DLO)  NA  NA  NA  NA  NA  NA   \n",
       "2  MBBS                                         DDVL  NA  NA  NA  NA  NA  NA   \n",
       "3  BAMS                                           NA  NA  NA  NA  NA  NA  NA   \n",
       "4   BDS   MDS - Conservative Dentistry & Endodontics  NA  NA  NA  NA  NA  NA   \n",
       "\n",
       "   Q9  Experience      Rating                        Place           Profile  \n",
       "0  NA          35   94.441472       Ghatkopar East, Mumbai  General Medicine  \n",
       "1  NA          31   94.441472  West Marredpally, Hyderabad    ENT Specialist  \n",
       "2  NA          40   70.000000            KK Nagar, Chennai    Dermatologists  \n",
       "3  NA           0   94.441472       New Ashok Nagar, Delhi          Ayurveda  \n",
       "4  NA          16  100.000000    Kanakpura Road, Bangalore           Dentist  "
      ]
     },
     "execution_count": 26,
     "metadata": {},
     "output_type": "execute_result"
    }
   ],
   "source": [
    "# We can see lot of qualifications, we can splt these qualifications for test dataset\n",
    "qlfn = df_test[\"Qualification\"].str.split(\",\", n = 8, expand = True)\n",
    "qlfn = qlfn.fillna('NA')\n",
    "df_test = pd.concat([qlfn, df_test], axis=1)\n",
    "df_test = df_test.drop(['Qualification'], axis=1)\n",
    "df_test.rename(columns={0: 'Q1', 1: 'Q2', 2:'Q3', 3:'Q4', 4:'Q5', 5:'Q6', 6:'Q7', 7:'Q8', 8:'Q9'}, inplace=True)\n",
    "df_test.head()"
   ]
  },
  {
   "cell_type": "code",
   "execution_count": 27,
   "metadata": {},
   "outputs": [
    {
     "data": {
      "text/plain": [
       "(Q1             object\n",
       " Q2             object\n",
       " Q3             object\n",
       " Q4             object\n",
       " Q5             object\n",
       " Q6             object\n",
       " Q7             object\n",
       " Q8             object\n",
       " Q9             object\n",
       " Experience      int32\n",
       " Rating        float64\n",
       " Place          object\n",
       " Profile        object\n",
       " Fees            int64\n",
       " dtype: object, Q1             object\n",
       " Q2             object\n",
       " Q3             object\n",
       " Q4             object\n",
       " Q5             object\n",
       " Q6             object\n",
       " Q7             object\n",
       " Q8             object\n",
       " Q9             object\n",
       " Experience      int32\n",
       " Rating        float64\n",
       " Place          object\n",
       " Profile        object\n",
       " dtype: object)"
      ]
     },
     "execution_count": 27,
     "metadata": {},
     "output_type": "execute_result"
    }
   ],
   "source": [
    "df_train.dtypes, df_test.dtypes\n"
   ]
  },
  {
   "cell_type": "code",
   "execution_count": 28,
   "metadata": {},
   "outputs": [],
   "source": [
    "# We can split Place into Locality and City\n",
    "place = df_train[\"Place\"].str.split(\",\")\n",
    "df_train[\"Locality\"] = place.str[0]\n",
    "df_train[\"City\"] = place.str[1]"
   ]
  },
  {
   "cell_type": "code",
   "execution_count": 29,
   "metadata": {},
   "outputs": [],
   "source": [
    "# We can split Place into Locality and City\n",
    "place = df_test[\"Place\"].str.split(\",\")\n",
    "df_test[\"Locality\"] = place.str[0]\n",
    "df_test[\"City\"] = place.str[1]"
   ]
  },
  {
   "cell_type": "code",
   "execution_count": 30,
   "metadata": {},
   "outputs": [],
   "source": [
    "# We can drop Place from both datasets\n",
    "df_train = df_train.drop(['Place'], axis=1)\n",
    "df_test = df_test.drop(['Place'], axis=1)"
   ]
  },
  {
   "cell_type": "code",
   "execution_count": 31,
   "metadata": {},
   "outputs": [
    {
     "data": {
      "text/html": [
       "<div>\n",
       "<style scoped>\n",
       "    .dataframe tbody tr th:only-of-type {\n",
       "        vertical-align: middle;\n",
       "    }\n",
       "\n",
       "    .dataframe tbody tr th {\n",
       "        vertical-align: top;\n",
       "    }\n",
       "\n",
       "    .dataframe thead th {\n",
       "        text-align: right;\n",
       "    }\n",
       "</style>\n",
       "<table border=\"1\" class=\"dataframe\">\n",
       "  <thead>\n",
       "    <tr style=\"text-align: right;\">\n",
       "      <th></th>\n",
       "      <th>Q1</th>\n",
       "      <th>Q2</th>\n",
       "      <th>Q3</th>\n",
       "      <th>Q4</th>\n",
       "      <th>Q5</th>\n",
       "      <th>Q6</th>\n",
       "      <th>Q7</th>\n",
       "      <th>Q8</th>\n",
       "      <th>Q9</th>\n",
       "      <th>Experience</th>\n",
       "      <th>Rating</th>\n",
       "      <th>Profile</th>\n",
       "      <th>Fees</th>\n",
       "      <th>Locality</th>\n",
       "      <th>City</th>\n",
       "    </tr>\n",
       "  </thead>\n",
       "  <tbody>\n",
       "    <tr>\n",
       "      <th>0</th>\n",
       "      <td>BHMS</td>\n",
       "      <td>MD - Homeopathy</td>\n",
       "      <td>NA</td>\n",
       "      <td>NA</td>\n",
       "      <td>NA</td>\n",
       "      <td>NA</td>\n",
       "      <td>NA</td>\n",
       "      <td>NA</td>\n",
       "      <td>NA</td>\n",
       "      <td>24</td>\n",
       "      <td>100.000000</td>\n",
       "      <td>Homeopath</td>\n",
       "      <td>100</td>\n",
       "      <td>Kakkanad</td>\n",
       "      <td>Ernakulam</td>\n",
       "    </tr>\n",
       "    <tr>\n",
       "      <th>1</th>\n",
       "      <td>BAMS</td>\n",
       "      <td>MD - Ayurveda Medicine</td>\n",
       "      <td>NA</td>\n",
       "      <td>NA</td>\n",
       "      <td>NA</td>\n",
       "      <td>NA</td>\n",
       "      <td>NA</td>\n",
       "      <td>NA</td>\n",
       "      <td>NA</td>\n",
       "      <td>12</td>\n",
       "      <td>98.000000</td>\n",
       "      <td>Ayurveda</td>\n",
       "      <td>350</td>\n",
       "      <td>Whitefield</td>\n",
       "      <td>Bangalore</td>\n",
       "    </tr>\n",
       "    <tr>\n",
       "      <th>2</th>\n",
       "      <td>MBBS</td>\n",
       "      <td>MS - Otorhinolaryngology</td>\n",
       "      <td>NA</td>\n",
       "      <td>NA</td>\n",
       "      <td>NA</td>\n",
       "      <td>NA</td>\n",
       "      <td>NA</td>\n",
       "      <td>NA</td>\n",
       "      <td>NA</td>\n",
       "      <td>9</td>\n",
       "      <td>94.643475</td>\n",
       "      <td>ENT Specialist</td>\n",
       "      <td>300</td>\n",
       "      <td>Mathikere - BEL</td>\n",
       "      <td>Bangalore</td>\n",
       "    </tr>\n",
       "    <tr>\n",
       "      <th>3</th>\n",
       "      <td>BSc - Zoology</td>\n",
       "      <td>BAMS</td>\n",
       "      <td>NA</td>\n",
       "      <td>NA</td>\n",
       "      <td>NA</td>\n",
       "      <td>NA</td>\n",
       "      <td>NA</td>\n",
       "      <td>NA</td>\n",
       "      <td>NA</td>\n",
       "      <td>12</td>\n",
       "      <td>94.643475</td>\n",
       "      <td>Ayurveda</td>\n",
       "      <td>250</td>\n",
       "      <td>Bannerghatta Road</td>\n",
       "      <td>Bangalore</td>\n",
       "    </tr>\n",
       "    <tr>\n",
       "      <th>4</th>\n",
       "      <td>BAMS</td>\n",
       "      <td>NA</td>\n",
       "      <td>NA</td>\n",
       "      <td>NA</td>\n",
       "      <td>NA</td>\n",
       "      <td>NA</td>\n",
       "      <td>NA</td>\n",
       "      <td>NA</td>\n",
       "      <td>NA</td>\n",
       "      <td>20</td>\n",
       "      <td>100.000000</td>\n",
       "      <td>Ayurveda</td>\n",
       "      <td>250</td>\n",
       "      <td>Keelkattalai</td>\n",
       "      <td>Chennai</td>\n",
       "    </tr>\n",
       "  </tbody>\n",
       "</table>\n",
       "</div>"
      ],
      "text/plain": [
       "              Q1                         Q2  Q3  Q4  Q5  Q6  Q7  Q8  Q9  \\\n",
       "0           BHMS            MD - Homeopathy  NA  NA  NA  NA  NA  NA  NA   \n",
       "1           BAMS     MD - Ayurveda Medicine  NA  NA  NA  NA  NA  NA  NA   \n",
       "2           MBBS   MS - Otorhinolaryngology  NA  NA  NA  NA  NA  NA  NA   \n",
       "3  BSc - Zoology                       BAMS  NA  NA  NA  NA  NA  NA  NA   \n",
       "4           BAMS                         NA  NA  NA  NA  NA  NA  NA  NA   \n",
       "\n",
       "   Experience      Rating         Profile  Fees           Locality        City  \n",
       "0          24  100.000000       Homeopath   100           Kakkanad   Ernakulam  \n",
       "1          12   98.000000        Ayurveda   350         Whitefield   Bangalore  \n",
       "2           9   94.643475  ENT Specialist   300    Mathikere - BEL   Bangalore  \n",
       "3          12   94.643475        Ayurveda   250  Bannerghatta Road   Bangalore  \n",
       "4          20  100.000000        Ayurveda   250       Keelkattalai     Chennai  "
      ]
     },
     "execution_count": 31,
     "metadata": {},
     "output_type": "execute_result"
    }
   ],
   "source": [
    "df_train.head()"
   ]
  },
  {
   "cell_type": "code",
   "execution_count": 32,
   "metadata": {},
   "outputs": [
    {
     "data": {
      "text/html": [
       "<div>\n",
       "<style scoped>\n",
       "    .dataframe tbody tr th:only-of-type {\n",
       "        vertical-align: middle;\n",
       "    }\n",
       "\n",
       "    .dataframe tbody tr th {\n",
       "        vertical-align: top;\n",
       "    }\n",
       "\n",
       "    .dataframe thead th {\n",
       "        text-align: right;\n",
       "    }\n",
       "</style>\n",
       "<table border=\"1\" class=\"dataframe\">\n",
       "  <thead>\n",
       "    <tr style=\"text-align: right;\">\n",
       "      <th></th>\n",
       "      <th>Q1</th>\n",
       "      <th>Q2</th>\n",
       "      <th>Q3</th>\n",
       "      <th>Q4</th>\n",
       "      <th>Q5</th>\n",
       "      <th>Q6</th>\n",
       "      <th>Q7</th>\n",
       "      <th>Q8</th>\n",
       "      <th>Q9</th>\n",
       "      <th>Experience</th>\n",
       "      <th>Rating</th>\n",
       "      <th>Profile</th>\n",
       "      <th>Locality</th>\n",
       "      <th>City</th>\n",
       "    </tr>\n",
       "  </thead>\n",
       "  <tbody>\n",
       "    <tr>\n",
       "      <th>0</th>\n",
       "      <td>MBBS</td>\n",
       "      <td>NA</td>\n",
       "      <td>NA</td>\n",
       "      <td>NA</td>\n",
       "      <td>NA</td>\n",
       "      <td>NA</td>\n",
       "      <td>NA</td>\n",
       "      <td>NA</td>\n",
       "      <td>NA</td>\n",
       "      <td>35</td>\n",
       "      <td>94.441472</td>\n",
       "      <td>General Medicine</td>\n",
       "      <td>Ghatkopar East</td>\n",
       "      <td>Mumbai</td>\n",
       "    </tr>\n",
       "    <tr>\n",
       "      <th>1</th>\n",
       "      <td>MBBS</td>\n",
       "      <td>Diploma in Otorhinolaryngology (DLO)</td>\n",
       "      <td>NA</td>\n",
       "      <td>NA</td>\n",
       "      <td>NA</td>\n",
       "      <td>NA</td>\n",
       "      <td>NA</td>\n",
       "      <td>NA</td>\n",
       "      <td>NA</td>\n",
       "      <td>31</td>\n",
       "      <td>94.441472</td>\n",
       "      <td>ENT Specialist</td>\n",
       "      <td>West Marredpally</td>\n",
       "      <td>Hyderabad</td>\n",
       "    </tr>\n",
       "    <tr>\n",
       "      <th>2</th>\n",
       "      <td>MBBS</td>\n",
       "      <td>DDVL</td>\n",
       "      <td>NA</td>\n",
       "      <td>NA</td>\n",
       "      <td>NA</td>\n",
       "      <td>NA</td>\n",
       "      <td>NA</td>\n",
       "      <td>NA</td>\n",
       "      <td>NA</td>\n",
       "      <td>40</td>\n",
       "      <td>70.000000</td>\n",
       "      <td>Dermatologists</td>\n",
       "      <td>KK Nagar</td>\n",
       "      <td>Chennai</td>\n",
       "    </tr>\n",
       "    <tr>\n",
       "      <th>3</th>\n",
       "      <td>BAMS</td>\n",
       "      <td>NA</td>\n",
       "      <td>NA</td>\n",
       "      <td>NA</td>\n",
       "      <td>NA</td>\n",
       "      <td>NA</td>\n",
       "      <td>NA</td>\n",
       "      <td>NA</td>\n",
       "      <td>NA</td>\n",
       "      <td>0</td>\n",
       "      <td>94.441472</td>\n",
       "      <td>Ayurveda</td>\n",
       "      <td>New Ashok Nagar</td>\n",
       "      <td>Delhi</td>\n",
       "    </tr>\n",
       "    <tr>\n",
       "      <th>4</th>\n",
       "      <td>BDS</td>\n",
       "      <td>MDS - Conservative Dentistry &amp; Endodontics</td>\n",
       "      <td>NA</td>\n",
       "      <td>NA</td>\n",
       "      <td>NA</td>\n",
       "      <td>NA</td>\n",
       "      <td>NA</td>\n",
       "      <td>NA</td>\n",
       "      <td>NA</td>\n",
       "      <td>16</td>\n",
       "      <td>100.000000</td>\n",
       "      <td>Dentist</td>\n",
       "      <td>Kanakpura Road</td>\n",
       "      <td>Bangalore</td>\n",
       "    </tr>\n",
       "  </tbody>\n",
       "</table>\n",
       "</div>"
      ],
      "text/plain": [
       "     Q1                                           Q2  Q3  Q4  Q5  Q6  Q7  Q8  \\\n",
       "0  MBBS                                           NA  NA  NA  NA  NA  NA  NA   \n",
       "1  MBBS         Diploma in Otorhinolaryngology (DLO)  NA  NA  NA  NA  NA  NA   \n",
       "2  MBBS                                         DDVL  NA  NA  NA  NA  NA  NA   \n",
       "3  BAMS                                           NA  NA  NA  NA  NA  NA  NA   \n",
       "4   BDS   MDS - Conservative Dentistry & Endodontics  NA  NA  NA  NA  NA  NA   \n",
       "\n",
       "   Q9  Experience      Rating           Profile          Locality        City  \n",
       "0  NA          35   94.441472  General Medicine    Ghatkopar East      Mumbai  \n",
       "1  NA          31   94.441472    ENT Specialist  West Marredpally   Hyderabad  \n",
       "2  NA          40   70.000000    Dermatologists          KK Nagar     Chennai  \n",
       "3  NA           0   94.441472          Ayurveda   New Ashok Nagar       Delhi  \n",
       "4  NA          16  100.000000           Dentist    Kanakpura Road   Bangalore  "
      ]
     },
     "execution_count": 32,
     "metadata": {},
     "output_type": "execute_result"
    }
   ],
   "source": [
    "df_test.head()"
   ]
  },
  {
   "cell_type": "code",
   "execution_count": 33,
   "metadata": {},
   "outputs": [
    {
     "data": {
      "text/plain": [
       "(Q1            0\n",
       " Q2            0\n",
       " Q3            0\n",
       " Q4            0\n",
       " Q5            0\n",
       " Q6            0\n",
       " Q7            0\n",
       " Q8            0\n",
       " Q9            0\n",
       " Experience    0\n",
       " Rating        0\n",
       " Profile       0\n",
       " Fees          0\n",
       " Locality      0\n",
       " City          1\n",
       " dtype: int64, Q1            0\n",
       " Q2            0\n",
       " Q3            0\n",
       " Q4            0\n",
       " Q5            0\n",
       " Q6            0\n",
       " Q7            0\n",
       " Q8            0\n",
       " Q9            0\n",
       " Experience    0\n",
       " Rating        0\n",
       " Profile       0\n",
       " Locality      0\n",
       " City          0\n",
       " dtype: int64)"
      ]
     },
     "execution_count": 33,
     "metadata": {},
     "output_type": "execute_result"
    }
   ],
   "source": [
    "df_train.isna().sum(), df_test.isna().sum()"
   ]
  },
  {
   "cell_type": "code",
   "execution_count": 34,
   "metadata": {},
   "outputs": [],
   "source": [
    "# One City is missing, since this is only one record we can drop it\n",
    "df_train = df_train.dropna(axis = 0)"
   ]
  },
  {
   "cell_type": "code",
   "execution_count": 35,
   "metadata": {},
   "outputs": [
    {
     "name": "stdout",
     "output_type": "stream",
     "text": [
      "<class 'pandas.core.frame.DataFrame'>\n",
      "Int64Index: 5918 entries, 0 to 5960\n",
      "Data columns (total 15 columns):\n",
      "Q1            5918 non-null object\n",
      "Q2            5918 non-null object\n",
      "Q3            5918 non-null object\n",
      "Q4            5918 non-null object\n",
      "Q5            5918 non-null object\n",
      "Q6            5918 non-null object\n",
      "Q7            5918 non-null object\n",
      "Q8            5918 non-null object\n",
      "Q9            5918 non-null object\n",
      "Experience    5918 non-null int32\n",
      "Rating        5918 non-null float64\n",
      "Profile       5918 non-null object\n",
      "Fees          5918 non-null int64\n",
      "Locality      5918 non-null object\n",
      "City          5918 non-null object\n",
      "dtypes: float64(1), int32(1), int64(1), object(12)\n",
      "memory usage: 716.6+ KB\n"
     ]
    }
   ],
   "source": [
    "df_train.info()"
   ]
  },
  {
   "cell_type": "code",
   "execution_count": 36,
   "metadata": {},
   "outputs": [
    {
     "data": {
      "text/plain": [
       "((5918, 15), (1975, 14))"
      ]
     },
     "execution_count": 36,
     "metadata": {},
     "output_type": "execute_result"
    }
   ],
   "source": [
    "df_train.shape, df_test.shape"
   ]
  },
  {
   "cell_type": "code",
   "execution_count": 37,
   "metadata": {},
   "outputs": [],
   "source": [
    "from sklearn.preprocessing import LabelEncoder\n",
    "df_testing = df_train.copy()\n",
    "le_Q1   = LabelEncoder()\n",
    "le_Q1.fit(df_train['Q1'].unique())\n",
    "df_train['Q1'] = le_Q1.transform(df_train['Q1'])"
   ]
  },
  {
   "cell_type": "code",
   "execution_count": 38,
   "metadata": {},
   "outputs": [],
   "source": [
    "# Encoding Categorical Variables for train data\n",
    "from sklearn.preprocessing import LabelEncoder\n",
    "le_Q1        = LabelEncoder()\n",
    "le_Q2        = LabelEncoder()\n",
    "le_Q3        = LabelEncoder()\n",
    "le_Q4        = LabelEncoder()\n",
    "le_Q5        = LabelEncoder()\n",
    "le_Q6        = LabelEncoder()\n",
    "le_Q7        = LabelEncoder()\n",
    "le_Q8        = LabelEncoder()\n",
    "le_Q9        = LabelEncoder()\n",
    "\n",
    "le_Profile   = LabelEncoder()\n",
    "le_Locality  = LabelEncoder() \n",
    "le_City      = LabelEncoder()\n",
    "\n",
    "le_Q1.fit(df_train['Q1'].unique())\n",
    "le_Q2.fit(df_train['Q2'].unique())\n",
    "le_Q3.fit(df_train['Q3'].unique())\n",
    "le_Q4.fit(df_train['Q4'].unique())\n",
    "le_Q5.fit(df_train['Q5'].unique())\n",
    "le_Q6.fit(df_train['Q6'].unique())\n",
    "le_Q7.fit(df_train['Q7'].unique())\n",
    "le_Q8.fit(df_train['Q8'].unique())\n",
    "le_Q9.fit(df_train['Q9'].unique())\n",
    "\n",
    "\n",
    "le_Profile.fit(df_train['Profile'].unique())\n",
    "le_City.fit(df_train['City'].unique())\n",
    "le_Locality.fit(df_train['Locality'].unique())\n",
    "\n",
    "df_train['Q1']       = le_Q1.transform(df_train['Q1'])\n",
    "df_train['Q2']       = le_Q2.transform(df_train['Q2'])\n",
    "df_train['Q3']       = le_Q3.transform(df_train['Q3'])\n",
    "df_train['Q4']       = le_Q4.transform(df_train['Q4'])\n",
    "df_train['Q5']       = le_Q5.transform(df_train['Q5'])\n",
    "df_train['Q6']       = le_Q6.transform(df_train['Q6'])\n",
    "df_train['Q7']       = le_Q7.transform(df_train['Q7'])\n",
    "df_train['Q8']       = le_Q8.transform(df_train['Q8'])\n",
    "df_train['Q9']       = le_Q9.transform(df_train['Q9'])\n",
    "\n",
    "df_train['Profile']  = le_Profile.transform(df_train['Profile'])\n",
    "df_train['City']     = le_City.transform(df_train['City'])\n",
    "df_train['Locality'] = le_Locality.transform(df_train['Locality'])"
   ]
  },
  {
   "cell_type": "code",
   "execution_count": 39,
   "metadata": {},
   "outputs": [],
   "source": [
    "le_Q1        = LabelEncoder()\n",
    "le_Q2        = LabelEncoder()\n",
    "le_Q3        = LabelEncoder()\n",
    "le_Q4        = LabelEncoder()\n",
    "le_Q5        = LabelEncoder()\n",
    "le_Q6        = LabelEncoder()\n",
    "le_Q7        = LabelEncoder()\n",
    "le_Q8        = LabelEncoder()\n",
    "le_Q9        = LabelEncoder()\n",
    "\n",
    "le_Profile   = LabelEncoder()\n",
    "le_Locality  = LabelEncoder() \n",
    "le_City      = LabelEncoder()\n",
    "\n",
    "le_Q1.fit(df_test['Q1'].unique())\n",
    "le_Q2.fit(df_test['Q2'].unique())\n",
    "le_Q3.fit(df_test['Q3'].unique())\n",
    "le_Q4.fit(df_test['Q4'].unique())\n",
    "le_Q5.fit(df_test['Q5'].unique())\n",
    "le_Q6.fit(df_test['Q6'].unique())\n",
    "le_Q7.fit(df_test['Q7'].unique())\n",
    "le_Q8.fit(df_test['Q8'].unique())\n",
    "le_Q9.fit(df_test['Q9'].unique())\n",
    "\n",
    "\n",
    "le_Profile.fit(df_test['Profile'].unique())\n",
    "le_City.fit(df_test['City'].unique())\n",
    "le_Locality.fit(df_test['Locality'].unique())\n",
    "\n",
    "df_test['Q1']       = le_Q1.transform(df_test['Q1'])\n",
    "df_test['Q2']       = le_Q2.transform(df_test['Q2'])\n",
    "df_test['Q3']       = le_Q3.transform(df_test['Q3'])\n",
    "df_test['Q4']       = le_Q4.transform(df_test['Q4'])\n",
    "df_test['Q5']       = le_Q5.transform(df_test['Q5'])\n",
    "df_test['Q6']       = le_Q6.transform(df_test['Q6'])\n",
    "df_test['Q7']       = le_Q7.transform(df_test['Q7'])\n",
    "df_test['Q8']       = le_Q8.transform(df_test['Q8'])\n",
    "df_test['Q9']       = le_Q9.transform(df_test['Q9'])\n",
    "\n",
    "df_test['Profile']  = le_Profile.transform(df_test['Profile'])\n",
    "df_test['City']     = le_City.transform(df_test['City'])\n",
    "df_test['Locality'] = le_Locality.transform(df_test['Locality'])"
   ]
  },
  {
   "cell_type": "code",
   "execution_count": 40,
   "metadata": {},
   "outputs": [
    {
     "name": "stdout",
     "output_type": "stream",
     "text": [
      "<class 'pandas.core.frame.DataFrame'>\n",
      "Int64Index: 5918 entries, 0 to 5960\n",
      "Data columns (total 15 columns):\n",
      "Q1            5918 non-null int64\n",
      "Q2            5918 non-null int32\n",
      "Q3            5918 non-null int32\n",
      "Q4            5918 non-null int32\n",
      "Q5            5918 non-null int32\n",
      "Q6            5918 non-null int32\n",
      "Q7            5918 non-null int32\n",
      "Q8            5918 non-null int32\n",
      "Q9            5918 non-null int32\n",
      "Experience    5918 non-null int32\n",
      "Rating        5918 non-null float64\n",
      "Profile       5918 non-null int32\n",
      "Fees          5918 non-null int64\n",
      "Locality      5918 non-null int32\n",
      "City          5918 non-null int32\n",
      "dtypes: float64(1), int32(12), int64(2)\n",
      "memory usage: 462.3 KB\n"
     ]
    }
   ],
   "source": [
    "df_train.info()"
   ]
  },
  {
   "cell_type": "code",
   "execution_count": 41,
   "metadata": {},
   "outputs": [
    {
     "name": "stdout",
     "output_type": "stream",
     "text": [
      "<class 'pandas.core.frame.DataFrame'>\n",
      "Int64Index: 1975 entries, 0 to 1986\n",
      "Data columns (total 14 columns):\n",
      "Q1            1975 non-null int32\n",
      "Q2            1975 non-null int32\n",
      "Q3            1975 non-null int32\n",
      "Q4            1975 non-null int32\n",
      "Q5            1975 non-null int32\n",
      "Q6            1975 non-null int32\n",
      "Q7            1975 non-null int32\n",
      "Q8            1975 non-null int32\n",
      "Q9            1975 non-null int32\n",
      "Experience    1975 non-null int32\n",
      "Rating        1975 non-null float64\n",
      "Profile       1975 non-null int32\n",
      "Locality      1975 non-null int32\n",
      "City          1975 non-null int32\n",
      "dtypes: float64(1), int32(13)\n",
      "memory usage: 131.2 KB\n"
     ]
    }
   ],
   "source": [
    "df_test.info()"
   ]
  },
  {
   "cell_type": "code",
   "execution_count": 42,
   "metadata": {},
   "outputs": [
    {
     "data": {
      "text/plain": [
       "array(['Q1', 'Q2', 'Q3', 'Q4', 'Q5', 'Q6', 'Q7', 'Q8', 'Q9', 'Experience',\n",
       "       'Rating', 'Profile', 'Fees', 'Locality', 'City'], dtype=object)"
      ]
     },
     "execution_count": 42,
     "metadata": {},
     "output_type": "execute_result"
    }
   ],
   "source": [
    "df_train.columns.values"
   ]
  },
  {
   "cell_type": "code",
   "execution_count": 44,
   "metadata": {},
   "outputs": [
    {
     "data": {
      "text/html": [
       "<div>\n",
       "<style scoped>\n",
       "    .dataframe tbody tr th:only-of-type {\n",
       "        vertical-align: middle;\n",
       "    }\n",
       "\n",
       "    .dataframe tbody tr th {\n",
       "        vertical-align: top;\n",
       "    }\n",
       "\n",
       "    .dataframe thead th {\n",
       "        text-align: right;\n",
       "    }\n",
       "</style>\n",
       "<table border=\"1\" class=\"dataframe\">\n",
       "  <thead>\n",
       "    <tr style=\"text-align: right;\">\n",
       "      <th></th>\n",
       "      <th>Q1</th>\n",
       "      <th>Q2</th>\n",
       "      <th>Q3</th>\n",
       "      <th>Q4</th>\n",
       "      <th>Q5</th>\n",
       "      <th>Q6</th>\n",
       "      <th>Q7</th>\n",
       "      <th>Q8</th>\n",
       "      <th>Q9</th>\n",
       "      <th>Experience</th>\n",
       "      <th>Rating</th>\n",
       "      <th>Profile</th>\n",
       "      <th>Locality</th>\n",
       "      <th>City</th>\n",
       "      <th>Fees</th>\n",
       "    </tr>\n",
       "  </thead>\n",
       "  <tbody>\n",
       "    <tr>\n",
       "      <th>0</th>\n",
       "      <td>8</td>\n",
       "      <td>252</td>\n",
       "      <td>405</td>\n",
       "      <td>209</td>\n",
       "      <td>95</td>\n",
       "      <td>31</td>\n",
       "      <td>12</td>\n",
       "      <td>6</td>\n",
       "      <td>4</td>\n",
       "      <td>24</td>\n",
       "      <td>100.000000</td>\n",
       "      <td>5</td>\n",
       "      <td>296</td>\n",
       "      <td>4</td>\n",
       "      <td>100</td>\n",
       "    </tr>\n",
       "    <tr>\n",
       "      <th>1</th>\n",
       "      <td>5</td>\n",
       "      <td>241</td>\n",
       "      <td>405</td>\n",
       "      <td>209</td>\n",
       "      <td>95</td>\n",
       "      <td>31</td>\n",
       "      <td>12</td>\n",
       "      <td>6</td>\n",
       "      <td>4</td>\n",
       "      <td>12</td>\n",
       "      <td>98.000000</td>\n",
       "      <td>0</td>\n",
       "      <td>855</td>\n",
       "      <td>0</td>\n",
       "      <td>350</td>\n",
       "    </tr>\n",
       "    <tr>\n",
       "      <th>2</th>\n",
       "      <td>78</td>\n",
       "      <td>334</td>\n",
       "      <td>405</td>\n",
       "      <td>209</td>\n",
       "      <td>95</td>\n",
       "      <td>31</td>\n",
       "      <td>12</td>\n",
       "      <td>6</td>\n",
       "      <td>4</td>\n",
       "      <td>9</td>\n",
       "      <td>94.643475</td>\n",
       "      <td>3</td>\n",
       "      <td>452</td>\n",
       "      <td>0</td>\n",
       "      <td>300</td>\n",
       "    </tr>\n",
       "    <tr>\n",
       "      <th>3</th>\n",
       "      <td>12</td>\n",
       "      <td>7</td>\n",
       "      <td>405</td>\n",
       "      <td>209</td>\n",
       "      <td>95</td>\n",
       "      <td>31</td>\n",
       "      <td>12</td>\n",
       "      <td>6</td>\n",
       "      <td>4</td>\n",
       "      <td>12</td>\n",
       "      <td>94.643475</td>\n",
       "      <td>0</td>\n",
       "      <td>68</td>\n",
       "      <td>0</td>\n",
       "      <td>250</td>\n",
       "    </tr>\n",
       "    <tr>\n",
       "      <th>4</th>\n",
       "      <td>5</td>\n",
       "      <td>425</td>\n",
       "      <td>405</td>\n",
       "      <td>209</td>\n",
       "      <td>95</td>\n",
       "      <td>31</td>\n",
       "      <td>12</td>\n",
       "      <td>6</td>\n",
       "      <td>4</td>\n",
       "      <td>20</td>\n",
       "      <td>100.000000</td>\n",
       "      <td>0</td>\n",
       "      <td>335</td>\n",
       "      <td>1</td>\n",
       "      <td>250</td>\n",
       "    </tr>\n",
       "  </tbody>\n",
       "</table>\n",
       "</div>"
      ],
      "text/plain": [
       "   Q1   Q2   Q3   Q4  Q5  Q6  Q7  Q8  Q9  Experience      Rating  Profile  \\\n",
       "0   8  252  405  209  95  31  12   6   4          24  100.000000        5   \n",
       "1   5  241  405  209  95  31  12   6   4          12   98.000000        0   \n",
       "2  78  334  405  209  95  31  12   6   4           9   94.643475        3   \n",
       "3  12    7  405  209  95  31  12   6   4          12   94.643475        0   \n",
       "4   5  425  405  209  95  31  12   6   4          20  100.000000        0   \n",
       "\n",
       "   Locality  City  Fees  \n",
       "0       296     4   100  \n",
       "1       855     0   350  \n",
       "2       452     0   300  \n",
       "3        68     0   250  \n",
       "4       335     1   250  "
      ]
     },
     "execution_count": 44,
     "metadata": {},
     "output_type": "execute_result"
    }
   ],
   "source": [
    "# Lets rearrange the columns\n",
    "df_train = df_train[['Q1', 'Q2', 'Q3', 'Q4','Q5', 'Q6', 'Q7', 'Q8', 'Q9', 'Experience', 'Rating', 'Profile',\n",
    "       'Locality', 'City', 'Fees']]\n",
    "df_train.head()"
   ]
  },
  {
   "cell_type": "code",
   "execution_count": 45,
   "metadata": {},
   "outputs": [
    {
     "data": {
      "image/png": "[encoded data removed]",
      "text/plain": [
       "<Figure size 1080x720 with 2 Axes>"
      ]
     },
     "metadata": {
      "needs_background": "light"
     },
     "output_type": "display_data"
    }
   ],
   "source": [
    "# Let's plot the train set correlation matrix\n",
    "corr_matrix = df_train.corr()\n",
    "fig, ax = plt.subplots(figsize=(15, 10))\n",
    "ax = sns.heatmap(corr_matrix,\n",
    "                 annot=True,\n",
    "                 linewidths=0.5,\n",
    "                 fmt=\".2f\",\n",
    "                 cmap=\"YlGnBu\");"
   ]
  },
  {
   "cell_type": "code",
   "execution_count": 46,
   "metadata": {},
   "outputs": [
    {
     "data": {
      "image/png": "[encoded data removed]",
      "text/plain": [
       "<Figure size 1080x720 with 2 Axes>"
      ]
     },
     "metadata": {
      "needs_background": "light"
     },
     "output_type": "display_data"
    }
   ],
   "source": [
    "# Let's plot the test set correlation matrix\n",
    "corr_matrix = df_test.corr()\n",
    "fig, ax = plt.subplots(figsize=(15, 10))\n",
    "ax = sns.heatmap(corr_matrix,\n",
    "                 annot=True,\n",
    "                 linewidths=0.5,\n",
    "                 fmt=\".2f\",\n",
    "                 cmap=\"YlGnBu\");"
   ]
  },
  {
   "cell_type": "code",
   "execution_count": 47,
   "metadata": {},
   "outputs": [
    {
     "name": "stdout",
     "output_type": "stream",
     "text": [
      "The datashape before removing outliers:  (5918, 15)\n",
      "The datashape after removing outliers:  (5414, 15)\n"
     ]
    }
   ],
   "source": [
    "# Check and remove outliers\n",
    "from scipy.stats import zscore\n",
    "z=np.abs(zscore(df_train))\n",
    "print(\"The datashape before removing outliers: \", df_train.shape)\n",
    "df_final = df_train[(z<3).all(axis=1)]\n",
    "print(\"The datashape after removing outliers: \", df_final.shape)"
   ]
  },
  {
   "cell_type": "code",
   "execution_count": 48,
   "metadata": {},
   "outputs": [],
   "source": [
    "# Lets start modelling\n",
    "# Split data into X and y\n",
    "X = df_final.drop(\"Fees\", axis=1)\n",
    "y = df_final[\"Fees\"]"
   ]
  },
  {
   "cell_type": "code",
   "execution_count": 49,
   "metadata": {},
   "outputs": [],
   "source": [
    "# Scaling all the variables to a range of 0 to 1\n",
    "from sklearn.preprocessing import MinMaxScaler\n",
    "features = X.columns.values\n",
    "scaler = MinMaxScaler(feature_range = (0,1))\n",
    "scaler.fit(X)\n",
    "X = pd.DataFrame(scaler.transform(X))\n",
    "X.columns = features"
   ]
  },
  {
   "cell_type": "code",
   "execution_count": 50,
   "metadata": {},
   "outputs": [],
   "source": [
    "features = df_test.columns.values\n",
    "scaler = MinMaxScaler(feature_range = (0,1))\n",
    "scaler.fit(df_test)\n",
    "df_test = pd.DataFrame(scaler.transform(df_test))\n",
    "df_test.columns = features\n"
   ]
  },
  {
   "cell_type": "code",
   "execution_count": 51,
   "metadata": {},
   "outputs": [],
   "source": [
    "# Split data into train and test sets\n",
    "\n",
    "X_train, X_test, y_train, y_test = train_test_split(X,\n",
    "                                                    y,\n",
    "                                                    test_size=0.2,\n",
    "                                                    random_state=42)"
   ]
  },
  {
   "cell_type": "code",
   "execution_count": 52,
   "metadata": {},
   "outputs": [
    {
     "data": {
      "text/plain": [
       "((4331, 14), (1083, 14), (4331,), (1083,))"
      ]
     },
     "execution_count": 52,
     "metadata": {},
     "output_type": "execute_result"
    }
   ],
   "source": [
    "X_train.shape, X_test.shape, y_train.shape, y_test.shape"
   ]
  },
  {
   "cell_type": "code",
   "execution_count": 53,
   "metadata": {},
   "outputs": [],
   "source": [
    "# Put models in a dictionary\n",
    "models = {\"Linear Regression\": LinearRegression(),\n",
    "          \"KNN\": KNeighborsRegressor(),\n",
    "          \"Decision Tree\": DecisionTreeRegressor(),\n",
    "          \"Random Forest\": RandomForestRegressor(),\n",
    "          \"Lasso\":Lasso(),\n",
    "          \"Support Vector Regression\": SVR()\n",
    "          }\n",
    "\n",
    "# Create a function to fit and score models\n",
    "def fit_and_score(models, X_train, X_test, y_train, y_test):\n",
    "    # np.random.seed(42)\n",
    "    # Make a dictionary to keep model scores\n",
    "    model_scores = {}\n",
    "    # Loop through models\n",
    "    for name, model in models.items():\n",
    "        # Fit the model to the data\n",
    "        model.fit(X_train, y_train)\n",
    "        # Evaluate the model and append its score to model_scores\n",
    "        model_scores[name] = model.score(X_test, y_test)\n",
    "    return model_scores"
   ]
  },
  {
   "cell_type": "code",
   "execution_count": 54,
   "metadata": {},
   "outputs": [
    {
     "data": {
      "text/plain": [
       "{'Linear Regression': 0.11230917209601632,\n",
       " 'KNN': 0.05446927929173684,\n",
       " 'Decision Tree': -0.6327177757005473,\n",
       " 'Random Forest': 0.1951939493566378,\n",
       " 'Lasso': 0.10194396653487992,\n",
       " 'Support Vector Regression': 0.056581897932192815}"
      ]
     },
     "execution_count": 54,
     "metadata": {},
     "output_type": "execute_result"
    }
   ],
   "source": [
    "model_scores = fit_and_score(models=models,\n",
    "                             X_train=X_train,\n",
    "                             X_test=X_test,\n",
    "                             y_train=y_train,\n",
    "                             y_test=y_test)\n",
    "\n",
    "model_scores"
   ]
  },
  {
   "cell_type": "code",
   "execution_count": 55,
   "metadata": {},
   "outputs": [],
   "source": [
    "def max_acc_score(reg, x, y):\n",
    "    max_r2_score=0\n",
    "    for r_state in range(42,101):\n",
    "        X_train, X_test, y_train, y_test = train_test_split(x, y, random_state = r_state, test_size=0.20)\n",
    "        reg.fit(X_train, y_train)\n",
    "        pred = reg.predict(X_test)\n",
    "        r2_score1=r2_score(y_test, pred)\n",
    "        if r2_score1 > max_r2_score:\n",
    "            max_r2_score = r2_score1\n",
    "            final_r_state = r_state\n",
    "    print(\"The max accuracy score for\", reg, \"is: \", max_r2_score, \" achieved at\", final_r_state)"
   ]
  },
  {
   "cell_type": "code",
   "execution_count": 56,
   "metadata": {},
   "outputs": [
    {
     "name": "stdout",
     "output_type": "stream",
     "text": [
      "The max accuracy score for GradientBoostingRegressor() is:  0.2609145706985585  achieved at 43\n"
     ]
    }
   ],
   "source": [
    "from sklearn.ensemble import GradientBoostingRegressor\n",
    "gbr = GradientBoostingRegressor()\n",
    "max_acc_score(gbr, X, y)"
   ]
  },
  {
   "cell_type": "code",
   "execution_count": 57,
   "metadata": {},
   "outputs": [
    {
     "name": "stdout",
     "output_type": "stream",
     "text": [
      "The max accuracy score for RandomForestRegressor() is:  0.23264180382192556  achieved at 43\n"
     ]
    }
   ],
   "source": [
    "rf =RandomForestRegressor()\n",
    "max_acc_score(rf, X, y)"
   ]
  },
  {
   "cell_type": "markdown",
   "metadata": {},
   "source": [
    "#### Here GradientBoost and Random forest is showing better accuracy, we can proceed further tune these two."
   ]
  },
  {
   "cell_type": "code",
   "execution_count": 58,
   "metadata": {},
   "outputs": [
    {
     "data": {
      "text/plain": [
       "{'n_estimators': 100}"
      ]
     },
     "execution_count": 58,
     "metadata": {},
     "output_type": "execute_result"
    }
   ],
   "source": [
    "rf = RandomForestRegressor()\n",
    "parameters={'n_estimators':(50,100,200,500)}\n",
    "gdrf = GridSearchCV(rf,parameters)\n",
    "gdrf.fit(X_train, y_train)\n",
    "gdrf.best_params_"
   ]
  },
  {
   "cell_type": "code",
   "execution_count": 59,
   "metadata": {},
   "outputs": [
    {
     "data": {
      "text/plain": [
       "{'n_estimators': 200}"
      ]
     },
     "execution_count": 59,
     "metadata": {},
     "output_type": "execute_result"
    }
   ],
   "source": [
    "gbr = GradientBoostingRegressor()\n",
    "parameters={'n_estimators':(50,100,200,500)}\n",
    "gdrf = GridSearchCV(gbr, parameters)\n",
    "gdrf.fit(X_train, y_train)\n",
    "gdrf.best_params_"
   ]
  },
  {
   "cell_type": "code",
   "execution_count": 60,
   "metadata": {},
   "outputs": [
    {
     "name": "stdout",
     "output_type": "stream",
     "text": [
      "The accuracy score is 0.229723636573119\n",
      "The cross val score is 0.15622343019332074\n"
     ]
    }
   ],
   "source": [
    "X_train, X_test, y_train, y_test = train_test_split(X,\n",
    "                                                    y,\n",
    "                                                    test_size=0.2,\n",
    "                                                    random_state=43)\n",
    "rf = RandomForestRegressor(n_estimators=100)\n",
    "rf.fit(X_train, y_train)\n",
    "pred = rf.predict(X_test)\n",
    "r2score = r2_score(y_test, pred)\n",
    "cv = cross_val_score(rf, X, y, cv=5, scoring='r2').mean()\n",
    "print(\"The accuracy score is\", r2score)\n",
    "print(\"The cross val score is\", cv)"
   ]
  },
  {
   "cell_type": "code",
   "execution_count": 61,
   "metadata": {},
   "outputs": [
    {
     "name": "stdout",
     "output_type": "stream",
     "text": [
      "The accuracy score is 0.27396852870902166\n",
      "The cross val score is 0.20568894477905939\n"
     ]
    }
   ],
   "source": [
    "X_train, X_test, y_train, y_test = train_test_split(X,\n",
    "                                                    y,\n",
    "                                                    test_size=0.2,\n",
    "                                                    random_state=43)\n",
    "gbr = GradientBoostingRegressor(n_estimators=200)\n",
    "gbr.fit(X_train, y_train)\n",
    "pred = gbr.predict(X_test)\n",
    "r2score = r2_score(y_test, pred)\n",
    "cv = cross_val_score(gbr, X, y, cv=5, scoring='r2').mean()\n",
    "print(\"The accuracy score is\", r2score)\n",
    "print(\"The cross val score is\", cv)"
   ]
  },
  {
   "cell_type": "code",
   "execution_count": 63,
   "metadata": {},
   "outputs": [],
   "source": [
    "def analyse_model(model):    \n",
    "    model.fit(X_train,y_train)\n",
    "    pred = model.predict(X_test)\n",
    "    print(\"R2 model score: %.2f \" % model.score(X_test,y_test))\n",
    "    print(\"Mean squared error: %.2f \" % mean_squared_error(y_test,pred))\n",
    "    print(\"mean_absolute_error: %.2f \" % mean_absolute_error(y_test,pred))\n",
    "    print(\"explained_variance_score: %.2f \" % explained_variance_score(y_test,pred)) \n",
    "  #  print(\"cross_val_score: %.2f \" % cross_val_score(model, X_train, y_train,cv=5).mean())\n",
    "    print(\"R2_Score: %.2f \" % r2_score(y_test,pred))\n",
    "    print(pd.DataFrame({'Fees':y_test,'Fees Predicted':pred}).head(10))"
   ]
  },
  {
   "cell_type": "code",
   "execution_count": 64,
   "metadata": {},
   "outputs": [
    {
     "name": "stdout",
     "output_type": "stream",
     "text": [
      "R2 model score: 0.25 \n",
      "Mean squared error: 26897.89 \n",
      "mean_absolute_error: 129.91 \n",
      "explained_variance_score: 0.25 \n",
      "R2_Score: 0.25 \n",
      "      Fees  Fees Predicted\n",
      "158    300      202.000000\n",
      "5903   500      312.000000\n",
      "2208   100      423.900000\n",
      "4937   200      213.500000\n",
      "5552   350      347.000000\n",
      "3895   800      439.500000\n",
      "1048   400      288.100000\n",
      "5323   100      266.411111\n",
      "1249   500      364.300000\n",
      "4172   600      500.500000\n"
     ]
    }
   ],
   "source": [
    "# Further tune with AdaBoostRegressor\n",
    "ada_rfregressor=AdaBoostRegressor()\n",
    "ada_rfregressor=AdaBoostRegressor(base_estimator=rf, learning_rate=0.1)\n",
    "ada_rfregressor.fit(X_train, y_train)\n",
    "ada_pred = ada_rfregressor.predict(X_test)\n",
    "analyse_model(ada_rfregressor)"
   ]
  },
  {
   "cell_type": "code",
   "execution_count": 65,
   "metadata": {},
   "outputs": [
    {
     "name": "stdout",
     "output_type": "stream",
     "text": [
      "R2 model score: 0.26 \n",
      "Mean squared error: 26391.39 \n",
      "mean_absolute_error: 130.34 \n",
      "explained_variance_score: 0.27 \n",
      "R2_Score: 0.26 \n",
      "      Fees  Fees Predicted\n",
      "158    300      216.060533\n",
      "5903   500      285.574830\n",
      "2208   100      415.375731\n",
      "4937   200      240.692293\n",
      "5552   350      375.377236\n",
      "3895   800      409.096602\n",
      "1048   400      294.417724\n",
      "5323   100      284.473820\n",
      "1249   500      373.005955\n",
      "4172   600      433.762143\n"
     ]
    }
   ],
   "source": [
    "# Further tune with AdaBoostRegressor\n",
    "ada_rfregressor=AdaBoostRegressor()\n",
    "ada_rfregressor=AdaBoostRegressor(base_estimator=gbr, learning_rate=0.1)\n",
    "ada_rfregressor.fit(X_train, y_train)\n",
    "ada_pred = ada_rfregressor.predict(X_test)\n",
    "analyse_model(ada_rfregressor)"
   ]
  },
  {
   "cell_type": "markdown",
   "metadata": {},
   "source": [
    "### We can finalise gbr as our final model"
   ]
  },
  {
   "cell_type": "code",
   "execution_count": 66,
   "metadata": {},
   "outputs": [],
   "source": [
    "# Predicting the test data\n",
    "predtest = gbr.predict(df_test)\n",
    "pd.DataFrame(predtest).to_csv(\"doctor_fees_prediction.csv\")"
   ]
  },
  {
   "cell_type": "code",
   "execution_count": 67,
   "metadata": {},
   "outputs": [],
   "source": [
    "# Lets Save the model as pickle in a file\n",
    "import pickle\n",
    "filename = 'doctor_fees_prediction.pkl'\n",
    "pickle.dump(gbr, open(filename, 'wb'))"
   ]
  },
  {
   "cell_type": "code",
   "execution_count": null,
   "metadata": {},
   "outputs": [],
   "source": []
  },
  {
   "cell_type": "code",
   "execution_count": null,
   "metadata": {},
   "outputs": [],
   "source": []
  },
  {
   "cell_type": "code",
   "execution_count": null,
   "metadata": {},
   "outputs": [],
   "source": []
  },
  {
   "cell_type": "code",
   "execution_count": null,
   "metadata": {},
   "outputs": [],
   "source": []
  },
  {
   "cell_type": "code",
   "execution_count": null,
   "metadata": {},
   "outputs": [],
   "source": []
  },
  {
   "cell_type": "code",
   "execution_count": null,
   "metadata": {},
   "outputs": [],
   "source": []
  },
  {
   "cell_type": "code",
   "execution_count": null,
   "metadata": {},
   "outputs": [],
   "source": []
  }
 ],
 "metadata": {
  "kernelspec": {
   "display_name": "Python 3",
   "language": "python",
   "name": "python3"
  },
  "language_info": {
   "codemirror_mode": {
    "name": "ipython",
    "version": 3
   },
   "file_extension": ".py",
   "mimetype": "text/x-python",
   "name": "python",
   "nbconvert_exporter": "python",
   "pygments_lexer": "ipython3",
   "version": "3.7.3"
  }
 },
 "nbformat": 4,
 "nbformat_minor": 2
}
